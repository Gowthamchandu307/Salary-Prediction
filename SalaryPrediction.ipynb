{
 "cells": [
  {
   "cell_type": "markdown",
   "metadata": {},
   "source": [
    "### **PROJECT: Prediction of Salary of Employees..**\n",
    "\n",
    "***By: Gowtham Chandu***"
   ]
  },
  {
   "cell_type": "markdown",
   "metadata": {},
   "source": [
    "<a id=\"toc\"></a>\n",
    "#### **TABLE OF CONTENTS:**\n",
    "1. [BACKGROUND AND MOTIVATIONS](#background)<br>\n",
    "2. [OBJECTIVES](#objectives)<br>\n",
    "3. [DATA EXTRACTION](#data_extraction)<br>\n",
    "    a. [Import Relevant Libraries](#import_libraries)<br>\n",
    "    b. [Read the dataset to a pandas dataframe](#read_dataset_to_dataframe)<br>\n",
    "4. [Exploratory Data Analysis(EDA)](#eda)<br>\n",
    "    &emsp;i. [Preliminary Data Cleaning](#preliminary_data_cleaning)<br>\n",
    "    &emsp;ii. [Analyse \"Employment\" Column](#Employment)<br>\n",
    "    &emsp;iii. [Analyse \"DevType\" Column](#DevType)<br>\n",
    "    &emsp;iv. [Analyse \"Country\" Column](#country)<br>\n",
    "5. [Observations](#observations)<br>\n",
    "6. [DATA PREPROCESSING](#data_preprocessing)<br>\n",
    "    a. [Split the Dataset](#split_dataset)<br>\n",
    "    b. [Address the imbalanced dataset](#imbalance_check)<br>\n",
    "    c. [Data Transformation](#data_transformation)<br>\n",
    "7. [CLASSIFICATION MODELS FOR PREDICTION](#models)<br>\n",
    "    a. [Logistic Regression Classifier](#logisticregression)<br>\n",
    "    &emsp;&emsp;i. [Instance of Logistic Regression Estimator](#logistic_model)<br>\n",
    "    &emsp;&emsp;ii. [Prediction and Performance - TRAINING DATASET](#prediction_training_logistic)<br>\n",
    "    &emsp;&emsp;iii. [Prediction and Performance - TEST DATASET](#prediction_test_logistic)<br>\n",
    "    &emsp;&emsp;iv. [ROC Curve of Prediction with Logistic Regression - TEST DATASET](#roc_logistic)<br>\n",
    "    &emsp;&emsp;v. [Feature Importance](#feat_imp_logistic)<br>\n",
    "    b. [Random Forest Classifier](#random_forest)<br>\n",
    "    &emsp;&emsp;i. [Instance; Hyperparameter Tuning; Model Fitting](#rf_estimator)<br>\n",
    "    &emsp;&emsp;ii. [Prediction and Performance - TRAINING DATASET](#prediction_training_rf)<br>\n",
    "    &emsp;&emsp;iii. [Prediction and Performance - TEST DATASET](#prediction_test_rf)<br>\n",
    "    &emsp;&emsp;iv. [ROC Curve of Prediction with Logistic Regression - TEST DATASET](#roc_rf)<br>\n",
    "    &emsp;&emsp;v. [Feature Importance](#feat_imp_rf)<br>\n",
    "8. [FINDINGS AND DISCUSSION](#findings_discussion)<br>\n",
    "    a. [Findings](#findings)<br>\n",
    "    b. [Discussion](#discussion)"
   ]
  },
  {
   "cell_type": "markdown",
   "metadata": {},
   "source": [
    "<a id='background'></a>\n",
    "#### **1. BACKGROUND AND MOTIVATION:**\n",
    "* **Motivation:** Salary prediction allows individuals to receive personalized insights into what their expected income might be based on various factors.\n",
    "\n",
    "\n",
    "<br>*Click [here](#toc) to go back to **Table of Contents**.*"
   ]
  },
  {
   "cell_type": "markdown",
   "metadata": {},
   "source": [
    "<a id=\"objectives\"></a>\n",
    "#### **2. OBJECTIVES**\n",
    "**(Enhance Hiring Processes):** \n",
    " Improve the efficiency of the recruitment process by providing HR professionals with accurate salary estimates.<br>\n",
    "**(Empower Job Seekers):**\n",
    " Empower job seekers with realistic salary expectations.\n",
    "\n",
    "<br>*Click [here](#toc) to go back to **Table of Contents**.*"
   ]
  },
  {
   "cell_type": "markdown",
   "metadata": {},
   "source": [
    "<a id=\"data_extraction\"></a>\n",
    "#### **3. DATA EXTRACTION**\n",
    "<a id=\"import_libraries\"></a>\n",
    "##### **3.a. Import relevant libraries**\n",
    "\n",
    "*Click [here](#toc) to go back to **Table of Contents**.*"
   ]
  },
  {
   "cell_type": "code",
   "execution_count": 2,
   "metadata": {},
   "outputs": [],
   "source": [
    "import pandas as pd\n",
    "import numpy as np\n",
    "import matplotlib.pyplot as plt\n",
    "\n"
   ]
  },
  {
   "cell_type": "markdown",
   "metadata": {},
   "source": [
    "<a id=\"read_dataset_to_dataframe\"></a>\n",
    "##### **3.b. Read the dataset to a temporary pandas dataframe**\n",
    "* The dataset in the \"*survey_results_public.csv*\" file is what we need and thus, we extract and read this dataset into pandas dataframe\n",
    "\n",
    "*Click [here](#toc) to go back to **Table of Contents**.*"
   ]
  },
  {
   "cell_type": "code",
   "execution_count": 3,
   "metadata": {},
   "outputs": [],
   "source": [
    "df = pd.read_csv(\"survey_results_public.csv\")"
   ]
  },
  {
   "cell_type": "code",
   "execution_count": 4,
   "metadata": {},
   "outputs": [],
   "source": [
    "bk=df.copy()"
   ]
  },
  {
   "cell_type": "code",
   "execution_count": 5,
   "metadata": {},
   "outputs": [
    {
     "data": {
      "text/html": [
       "<div>\n",
       "<style scoped>\n",
       "    .dataframe tbody tr th:only-of-type {\n",
       "        vertical-align: middle;\n",
       "    }\n",
       "\n",
       "    .dataframe tbody tr th {\n",
       "        vertical-align: top;\n",
       "    }\n",
       "\n",
       "    .dataframe thead th {\n",
       "        text-align: right;\n",
       "    }\n",
       "</style>\n",
       "<table border=\"1\" class=\"dataframe\">\n",
       "  <thead>\n",
       "    <tr style=\"text-align: right;\">\n",
       "      <th></th>\n",
       "      <th>Respondent</th>\n",
       "      <th>MainBranch</th>\n",
       "      <th>Hobbyist</th>\n",
       "      <th>Age</th>\n",
       "      <th>Age1stCode</th>\n",
       "      <th>CompFreq</th>\n",
       "      <th>CompTotal</th>\n",
       "      <th>ConvertedComp</th>\n",
       "      <th>Country</th>\n",
       "      <th>CurrencyDesc</th>\n",
       "      <th>...</th>\n",
       "      <th>SurveyEase</th>\n",
       "      <th>SurveyLength</th>\n",
       "      <th>Trans</th>\n",
       "      <th>UndergradMajor</th>\n",
       "      <th>WebframeDesireNextYear</th>\n",
       "      <th>WebframeWorkedWith</th>\n",
       "      <th>WelcomeChange</th>\n",
       "      <th>WorkWeekHrs</th>\n",
       "      <th>YearsCode</th>\n",
       "      <th>YearsCodePro</th>\n",
       "    </tr>\n",
       "  </thead>\n",
       "  <tbody>\n",
       "    <tr>\n",
       "      <th>0</th>\n",
       "      <td>1</td>\n",
       "      <td>I am a developer by profession</td>\n",
       "      <td>Yes</td>\n",
       "      <td>NaN</td>\n",
       "      <td>13</td>\n",
       "      <td>Monthly</td>\n",
       "      <td>NaN</td>\n",
       "      <td>NaN</td>\n",
       "      <td>Germany</td>\n",
       "      <td>European Euro</td>\n",
       "      <td>...</td>\n",
       "      <td>Neither easy nor difficult</td>\n",
       "      <td>Appropriate in length</td>\n",
       "      <td>No</td>\n",
       "      <td>Computer science, computer engineering, or sof...</td>\n",
       "      <td>ASP.NET Core</td>\n",
       "      <td>ASP.NET;ASP.NET Core</td>\n",
       "      <td>Just as welcome now as I felt last year</td>\n",
       "      <td>50.0</td>\n",
       "      <td>36</td>\n",
       "      <td>27</td>\n",
       "    </tr>\n",
       "    <tr>\n",
       "      <th>1</th>\n",
       "      <td>2</td>\n",
       "      <td>I am a developer by profession</td>\n",
       "      <td>No</td>\n",
       "      <td>NaN</td>\n",
       "      <td>19</td>\n",
       "      <td>NaN</td>\n",
       "      <td>NaN</td>\n",
       "      <td>NaN</td>\n",
       "      <td>United Kingdom</td>\n",
       "      <td>Pound sterling</td>\n",
       "      <td>...</td>\n",
       "      <td>NaN</td>\n",
       "      <td>NaN</td>\n",
       "      <td>NaN</td>\n",
       "      <td>Computer science, computer engineering, or sof...</td>\n",
       "      <td>NaN</td>\n",
       "      <td>NaN</td>\n",
       "      <td>Somewhat more welcome now than last year</td>\n",
       "      <td>NaN</td>\n",
       "      <td>7</td>\n",
       "      <td>4</td>\n",
       "    </tr>\n",
       "    <tr>\n",
       "      <th>2</th>\n",
       "      <td>3</td>\n",
       "      <td>I code primarily as a hobby</td>\n",
       "      <td>Yes</td>\n",
       "      <td>NaN</td>\n",
       "      <td>15</td>\n",
       "      <td>NaN</td>\n",
       "      <td>NaN</td>\n",
       "      <td>NaN</td>\n",
       "      <td>Russian Federation</td>\n",
       "      <td>NaN</td>\n",
       "      <td>...</td>\n",
       "      <td>Neither easy nor difficult</td>\n",
       "      <td>Appropriate in length</td>\n",
       "      <td>NaN</td>\n",
       "      <td>NaN</td>\n",
       "      <td>NaN</td>\n",
       "      <td>NaN</td>\n",
       "      <td>Somewhat more welcome now than last year</td>\n",
       "      <td>NaN</td>\n",
       "      <td>4</td>\n",
       "      <td>NaN</td>\n",
       "    </tr>\n",
       "    <tr>\n",
       "      <th>3</th>\n",
       "      <td>4</td>\n",
       "      <td>I am a developer by profession</td>\n",
       "      <td>Yes</td>\n",
       "      <td>25.0</td>\n",
       "      <td>18</td>\n",
       "      <td>NaN</td>\n",
       "      <td>NaN</td>\n",
       "      <td>NaN</td>\n",
       "      <td>Albania</td>\n",
       "      <td>Albanian lek</td>\n",
       "      <td>...</td>\n",
       "      <td>NaN</td>\n",
       "      <td>NaN</td>\n",
       "      <td>No</td>\n",
       "      <td>Computer science, computer engineering, or sof...</td>\n",
       "      <td>NaN</td>\n",
       "      <td>NaN</td>\n",
       "      <td>Somewhat less welcome now than last year</td>\n",
       "      <td>40.0</td>\n",
       "      <td>7</td>\n",
       "      <td>4</td>\n",
       "    </tr>\n",
       "    <tr>\n",
       "      <th>4</th>\n",
       "      <td>5</td>\n",
       "      <td>I used to be a developer by profession, but no...</td>\n",
       "      <td>Yes</td>\n",
       "      <td>31.0</td>\n",
       "      <td>16</td>\n",
       "      <td>NaN</td>\n",
       "      <td>NaN</td>\n",
       "      <td>NaN</td>\n",
       "      <td>United States</td>\n",
       "      <td>NaN</td>\n",
       "      <td>...</td>\n",
       "      <td>Easy</td>\n",
       "      <td>Too short</td>\n",
       "      <td>No</td>\n",
       "      <td>Computer science, computer engineering, or sof...</td>\n",
       "      <td>Django;Ruby on Rails</td>\n",
       "      <td>Ruby on Rails</td>\n",
       "      <td>Just as welcome now as I felt last year</td>\n",
       "      <td>NaN</td>\n",
       "      <td>15</td>\n",
       "      <td>8</td>\n",
       "    </tr>\n",
       "  </tbody>\n",
       "</table>\n",
       "<p>5 rows × 61 columns</p>\n",
       "</div>"
      ],
      "text/plain": [
       "   Respondent                                         MainBranch Hobbyist  \\\n",
       "0           1                     I am a developer by profession      Yes   \n",
       "1           2                     I am a developer by profession       No   \n",
       "2           3                        I code primarily as a hobby      Yes   \n",
       "3           4                     I am a developer by profession      Yes   \n",
       "4           5  I used to be a developer by profession, but no...      Yes   \n",
       "\n",
       "    Age Age1stCode CompFreq  CompTotal  ConvertedComp             Country  \\\n",
       "0   NaN         13  Monthly        NaN            NaN             Germany   \n",
       "1   NaN         19      NaN        NaN            NaN      United Kingdom   \n",
       "2   NaN         15      NaN        NaN            NaN  Russian Federation   \n",
       "3  25.0         18      NaN        NaN            NaN             Albania   \n",
       "4  31.0         16      NaN        NaN            NaN       United States   \n",
       "\n",
       "     CurrencyDesc     ...                       SurveyEase  \\\n",
       "0   European Euro     ...       Neither easy nor difficult   \n",
       "1  Pound sterling     ...                              NaN   \n",
       "2             NaN     ...       Neither easy nor difficult   \n",
       "3    Albanian lek     ...                              NaN   \n",
       "4             NaN     ...                             Easy   \n",
       "\n",
       "            SurveyLength Trans  \\\n",
       "0  Appropriate in length    No   \n",
       "1                    NaN   NaN   \n",
       "2  Appropriate in length   NaN   \n",
       "3                    NaN    No   \n",
       "4              Too short    No   \n",
       "\n",
       "                                      UndergradMajor WebframeDesireNextYear  \\\n",
       "0  Computer science, computer engineering, or sof...           ASP.NET Core   \n",
       "1  Computer science, computer engineering, or sof...                    NaN   \n",
       "2                                                NaN                    NaN   \n",
       "3  Computer science, computer engineering, or sof...                    NaN   \n",
       "4  Computer science, computer engineering, or sof...   Django;Ruby on Rails   \n",
       "\n",
       "     WebframeWorkedWith                             WelcomeChange WorkWeekHrs  \\\n",
       "0  ASP.NET;ASP.NET Core   Just as welcome now as I felt last year        50.0   \n",
       "1                   NaN  Somewhat more welcome now than last year         NaN   \n",
       "2                   NaN  Somewhat more welcome now than last year         NaN   \n",
       "3                   NaN  Somewhat less welcome now than last year        40.0   \n",
       "4         Ruby on Rails   Just as welcome now as I felt last year         NaN   \n",
       "\n",
       "  YearsCode YearsCodePro  \n",
       "0        36           27  \n",
       "1         7            4  \n",
       "2         4          NaN  \n",
       "3         7            4  \n",
       "4        15            8  \n",
       "\n",
       "[5 rows x 61 columns]"
      ]
     },
     "execution_count": 5,
     "metadata": {},
     "output_type": "execute_result"
    }
   ],
   "source": [
    "df.head()"
   ]
  },
  {
   "cell_type": "markdown",
   "metadata": {},
   "source": [
    "<a id=\"eda\"></a>\n",
    "##### **4. Exploratory Data Analysis (EDA)**"
   ]
  },
  {
   "cell_type": "code",
   "execution_count": 6,
   "metadata": {},
   "outputs": [
    {
     "data": {
      "text/html": [
       "<div>\n",
       "<style scoped>\n",
       "    .dataframe tbody tr th:only-of-type {\n",
       "        vertical-align: middle;\n",
       "    }\n",
       "\n",
       "    .dataframe tbody tr th {\n",
       "        vertical-align: top;\n",
       "    }\n",
       "\n",
       "    .dataframe thead th {\n",
       "        text-align: right;\n",
       "    }\n",
       "</style>\n",
       "<table border=\"1\" class=\"dataframe\">\n",
       "  <thead>\n",
       "    <tr style=\"text-align: right;\">\n",
       "      <th></th>\n",
       "      <th>Country</th>\n",
       "      <th>DevType</th>\n",
       "      <th>EdLevel</th>\n",
       "      <th>YearsCodePro</th>\n",
       "      <th>Employment</th>\n",
       "      <th>Salary</th>\n",
       "    </tr>\n",
       "  </thead>\n",
       "  <tbody>\n",
       "    <tr>\n",
       "      <th>0</th>\n",
       "      <td>Germany</td>\n",
       "      <td>Developer, desktop or enterprise applications;...</td>\n",
       "      <td>Master’s degree (M.A., M.S., M.Eng., MBA, etc.)</td>\n",
       "      <td>27</td>\n",
       "      <td>Independent contractor, freelancer, or self-em...</td>\n",
       "      <td>NaN</td>\n",
       "    </tr>\n",
       "    <tr>\n",
       "      <th>1</th>\n",
       "      <td>United Kingdom</td>\n",
       "      <td>Developer, full-stack;Developer, mobile</td>\n",
       "      <td>Bachelor’s degree (B.A., B.S., B.Eng., etc.)</td>\n",
       "      <td>4</td>\n",
       "      <td>Employed full-time</td>\n",
       "      <td>NaN</td>\n",
       "    </tr>\n",
       "    <tr>\n",
       "      <th>2</th>\n",
       "      <td>Russian Federation</td>\n",
       "      <td>NaN</td>\n",
       "      <td>NaN</td>\n",
       "      <td>NaN</td>\n",
       "      <td>NaN</td>\n",
       "      <td>NaN</td>\n",
       "    </tr>\n",
       "    <tr>\n",
       "      <th>3</th>\n",
       "      <td>Albania</td>\n",
       "      <td>NaN</td>\n",
       "      <td>Master’s degree (M.A., M.S., M.Eng., MBA, etc.)</td>\n",
       "      <td>4</td>\n",
       "      <td>NaN</td>\n",
       "      <td>NaN</td>\n",
       "    </tr>\n",
       "    <tr>\n",
       "      <th>4</th>\n",
       "      <td>United States</td>\n",
       "      <td>NaN</td>\n",
       "      <td>Bachelor’s degree (B.A., B.S., B.Eng., etc.)</td>\n",
       "      <td>8</td>\n",
       "      <td>Employed full-time</td>\n",
       "      <td>NaN</td>\n",
       "    </tr>\n",
       "  </tbody>\n",
       "</table>\n",
       "</div>"
      ],
      "text/plain": [
       "              Country                                            DevType  \\\n",
       "0             Germany  Developer, desktop or enterprise applications;...   \n",
       "1      United Kingdom            Developer, full-stack;Developer, mobile   \n",
       "2  Russian Federation                                                NaN   \n",
       "3             Albania                                                NaN   \n",
       "4       United States                                                NaN   \n",
       "\n",
       "                                           EdLevel YearsCodePro  \\\n",
       "0  Master’s degree (M.A., M.S., M.Eng., MBA, etc.)           27   \n",
       "1     Bachelor’s degree (B.A., B.S., B.Eng., etc.)            4   \n",
       "2                                              NaN          NaN   \n",
       "3  Master’s degree (M.A., M.S., M.Eng., MBA, etc.)            4   \n",
       "4     Bachelor’s degree (B.A., B.S., B.Eng., etc.)            8   \n",
       "\n",
       "                                          Employment  Salary  \n",
       "0  Independent contractor, freelancer, or self-em...     NaN  \n",
       "1                                 Employed full-time     NaN  \n",
       "2                                                NaN     NaN  \n",
       "3                                                NaN     NaN  \n",
       "4                                 Employed full-time     NaN  "
      ]
     },
     "execution_count": 6,
     "metadata": {},
     "output_type": "execute_result"
    }
   ],
   "source": [
    "df = df[[\"Country\", \"DevType\", \"EdLevel\", \"YearsCodePro\", \"Employment\", \"ConvertedComp\"]]\n",
    "df = df.rename({\"ConvertedComp\": \"Salary\"}, axis=1)\n",
    "df.head()"
   ]
  },
  {
   "cell_type": "code",
   "execution_count": 7,
   "metadata": {},
   "outputs": [
    {
     "name": "stdout",
     "output_type": "stream",
     "text": [
      "<class 'pandas.core.frame.DataFrame'>\n",
      "RangeIndex: 64461 entries, 0 to 64460\n",
      "Data columns (total 6 columns):\n",
      "Country         64072 non-null object\n",
      "DevType         49370 non-null object\n",
      "EdLevel         57431 non-null object\n",
      "YearsCodePro    46349 non-null object\n",
      "Employment      63854 non-null object\n",
      "Salary          34756 non-null float64\n",
      "dtypes: float64(1), object(5)\n",
      "memory usage: 3.0+ MB\n"
     ]
    }
   ],
   "source": [
    "df.info()"
   ]
  },
  {
   "cell_type": "code",
   "execution_count": 8,
   "metadata": {},
   "outputs": [
    {
     "data": {
      "text/html": [
       "<div>\n",
       "<style scoped>\n",
       "    .dataframe tbody tr th:only-of-type {\n",
       "        vertical-align: middle;\n",
       "    }\n",
       "\n",
       "    .dataframe tbody tr th {\n",
       "        vertical-align: top;\n",
       "    }\n",
       "\n",
       "    .dataframe thead th {\n",
       "        text-align: right;\n",
       "    }\n",
       "</style>\n",
       "<table border=\"1\" class=\"dataframe\">\n",
       "  <thead>\n",
       "    <tr style=\"text-align: right;\">\n",
       "      <th></th>\n",
       "      <th>Country</th>\n",
       "      <th>DevType</th>\n",
       "      <th>EdLevel</th>\n",
       "      <th>YearsCodePro</th>\n",
       "      <th>Employment</th>\n",
       "      <th>Salary</th>\n",
       "    </tr>\n",
       "  </thead>\n",
       "  <tbody>\n",
       "    <tr>\n",
       "      <th>7</th>\n",
       "      <td>United States</td>\n",
       "      <td>Developer, back-end;Developer, desktop or ente...</td>\n",
       "      <td>Bachelor’s degree (B.A., B.S., B.Eng., etc.)</td>\n",
       "      <td>13</td>\n",
       "      <td>Employed full-time</td>\n",
       "      <td>116000.0</td>\n",
       "    </tr>\n",
       "    <tr>\n",
       "      <th>9</th>\n",
       "      <td>United Kingdom</td>\n",
       "      <td>Database administrator;Developer, full-stack;D...</td>\n",
       "      <td>Master’s degree (M.A., M.S., M.Eng., MBA, etc.)</td>\n",
       "      <td>4</td>\n",
       "      <td>Employed full-time</td>\n",
       "      <td>32315.0</td>\n",
       "    </tr>\n",
       "    <tr>\n",
       "      <th>10</th>\n",
       "      <td>United Kingdom</td>\n",
       "      <td>Developer, back-end;Developer, desktop or ente...</td>\n",
       "      <td>Bachelor’s degree (B.A., B.S., B.Eng., etc.)</td>\n",
       "      <td>2</td>\n",
       "      <td>Employed full-time</td>\n",
       "      <td>40070.0</td>\n",
       "    </tr>\n",
       "    <tr>\n",
       "      <th>11</th>\n",
       "      <td>Spain</td>\n",
       "      <td>Designer;Developer, front-end</td>\n",
       "      <td>Some college/university study without earning ...</td>\n",
       "      <td>7</td>\n",
       "      <td>Employed full-time</td>\n",
       "      <td>14268.0</td>\n",
       "    </tr>\n",
       "    <tr>\n",
       "      <th>12</th>\n",
       "      <td>Netherlands</td>\n",
       "      <td>Designer;Developer, back-end</td>\n",
       "      <td>Secondary school (e.g. American high school, G...</td>\n",
       "      <td>20</td>\n",
       "      <td>Employed full-time</td>\n",
       "      <td>38916.0</td>\n",
       "    </tr>\n",
       "  </tbody>\n",
       "</table>\n",
       "</div>"
      ],
      "text/plain": [
       "           Country                                            DevType  \\\n",
       "7    United States  Developer, back-end;Developer, desktop or ente...   \n",
       "9   United Kingdom  Database administrator;Developer, full-stack;D...   \n",
       "10  United Kingdom  Developer, back-end;Developer, desktop or ente...   \n",
       "11           Spain                      Designer;Developer, front-end   \n",
       "12     Netherlands                       Designer;Developer, back-end   \n",
       "\n",
       "                                              EdLevel YearsCodePro  \\\n",
       "7        Bachelor’s degree (B.A., B.S., B.Eng., etc.)           13   \n",
       "9     Master’s degree (M.A., M.S., M.Eng., MBA, etc.)            4   \n",
       "10       Bachelor’s degree (B.A., B.S., B.Eng., etc.)            2   \n",
       "11  Some college/university study without earning ...            7   \n",
       "12  Secondary school (e.g. American high school, G...           20   \n",
       "\n",
       "            Employment    Salary  \n",
       "7   Employed full-time  116000.0  \n",
       "9   Employed full-time   32315.0  \n",
       "10  Employed full-time   40070.0  \n",
       "11  Employed full-time   14268.0  \n",
       "12  Employed full-time   38916.0  "
      ]
     },
     "execution_count": 8,
     "metadata": {},
     "output_type": "execute_result"
    }
   ],
   "source": [
    "df = df[df[\"Salary\"].notnull()]\n",
    "df.head()"
   ]
  },
  {
   "cell_type": "code",
   "execution_count": 9,
   "metadata": {},
   "outputs": [
    {
     "name": "stdout",
     "output_type": "stream",
     "text": [
      "<class 'pandas.core.frame.DataFrame'>\n",
      "Int64Index: 34756 entries, 7 to 64154\n",
      "Data columns (total 6 columns):\n",
      "Country         34756 non-null object\n",
      "DevType         34367 non-null object\n",
      "EdLevel         34188 non-null object\n",
      "YearsCodePro    34621 non-null object\n",
      "Employment      34717 non-null object\n",
      "Salary          34756 non-null float64\n",
      "dtypes: float64(1), object(5)\n",
      "memory usage: 1.9+ MB\n"
     ]
    }
   ],
   "source": [
    "df.info()"
   ]
  },
  {
   "cell_type": "markdown",
   "metadata": {},
   "source": [
    "<a id=\"preliminary_data_cleaning\"></a>\n",
    "**4.i. Preliminary Data Cleaning**<br>\n",
    "we read and store the preliminary cleaned dataset in pandas dataframe **\"df\"**.\n",
    "\n",
    "*Click [here](#toc) to go back to **Table of Contents**.*"
   ]
  },
  {
   "cell_type": "code",
   "execution_count": 10,
   "metadata": {},
   "outputs": [
    {
     "data": {
      "text/plain": [
       "Country         0\n",
       "DevType         0\n",
       "EdLevel         0\n",
       "YearsCodePro    0\n",
       "Employment      0\n",
       "Salary          0\n",
       "dtype: int64"
      ]
     },
     "execution_count": 10,
     "metadata": {},
     "output_type": "execute_result"
    }
   ],
   "source": [
    "df = df.dropna()\n",
    "df.isnull().sum()"
   ]
  },
  {
   "cell_type": "code",
   "execution_count": 11,
   "metadata": {},
   "outputs": [
    {
     "data": {
      "text/plain": [
       "array(['Employed full-time',\n",
       "       'Independent contractor, freelancer, or self-employed',\n",
       "       'Employed part-time'], dtype=object)"
      ]
     },
     "execution_count": 11,
     "metadata": {},
     "output_type": "execute_result"
    }
   ],
   "source": [
    "df['Employment'].unique()"
   ]
  },
  {
   "cell_type": "code",
   "execution_count": 12,
   "metadata": {},
   "outputs": [],
   "source": [
    "df['Employment'] = df['Employment'].str.split(\";\")\n",
    "df['Employment'] = df['Employment'].str[0]\n"
   ]
  },
  {
   "cell_type": "code",
   "execution_count": 13,
   "metadata": {},
   "outputs": [
    {
     "data": {
      "text/plain": [
       "array(['Employed full-time',\n",
       "       'Independent contractor, freelancer, or self-employed',\n",
       "       'Employed part-time'], dtype=object)"
      ]
     },
     "execution_count": 13,
     "metadata": {},
     "output_type": "execute_result"
    }
   ],
   "source": [
    "df['Employment'].unique()"
   ]
  },
  {
   "cell_type": "code",
   "execution_count": 14,
   "metadata": {},
   "outputs": [
    {
     "data": {
      "text/plain": [
       "Employed full-time                                      29722\n",
       "Independent contractor, freelancer, or self-employed     2977\n",
       "Employed part-time                                        997\n",
       "Name: Employment, dtype: int64"
      ]
     },
     "execution_count": 14,
     "metadata": {},
     "output_type": "execute_result"
    }
   ],
   "source": [
    "df['Employment'].value_counts()"
   ]
  },
  {
   "cell_type": "markdown",
   "metadata": {},
   "source": [
    "<a id=\"Employment\"></a>\n",
    "**4.ii. Analyse \"Employment\" Column.**<br>\n",
    "Now, we check for **Employment(s)** that appear in 3 values (convert column to \"Employed Full-Time\" and Drop the column)\n",
    "\n",
    "*Click [here](#toc) to go back to **Table of Contents**.*"
   ]
  },
  {
   "cell_type": "code",
   "execution_count": 15,
   "metadata": {},
   "outputs": [
    {
     "name": "stdout",
     "output_type": "stream",
     "text": [
      "<class 'pandas.core.frame.DataFrame'>\n",
      "Int64Index: 29722 entries, 7 to 64154\n",
      "Data columns (total 5 columns):\n",
      "Country         29722 non-null object\n",
      "DevType         29722 non-null object\n",
      "EdLevel         29722 non-null object\n",
      "YearsCodePro    29722 non-null object\n",
      "Salary          29722 non-null float64\n",
      "dtypes: float64(1), object(4)\n",
      "memory usage: 1.4+ MB\n"
     ]
    }
   ],
   "source": [
    "df = df[df[\"Employment\"] == \"Employed full-time\"]\n",
    "df = df.drop(\"Employment\", axis=1)\n",
    "df.info()"
   ]
  },
  {
   "cell_type": "code",
   "execution_count": 16,
   "metadata": {},
   "outputs": [
    {
     "data": {
      "text/plain": [
       "array(['Developer, back-end;Developer, desktop or enterprise applications;Developer, game or graphics',\n",
       "       'Database administrator;Developer, full-stack;Developer, mobile',\n",
       "       'Developer, back-end;Developer, desktop or enterprise applications;Developer, embedded applications or devices;Developer, front-end',\n",
       "       ...,\n",
       "       'Developer, back-end;Developer, front-end;Developer, full-stack;DevOps specialist;Engineer, data;Engineering manager',\n",
       "       'Database administrator;Developer, back-end;Developer, desktop or enterprise applications;Developer, front-end;Developer, full-stack;Engineer, data;Engineering manager;System administrator',\n",
       "       'Developer, full-stack;Developer, QA or test;System administrator'],\n",
       "      dtype=object)"
      ]
     },
     "execution_count": 16,
     "metadata": {},
     "output_type": "execute_result"
    }
   ],
   "source": [
    "df['DevType'].unique()\n"
   ]
  },
  {
   "cell_type": "markdown",
   "metadata": {},
   "source": [
    "<a id=\"DevType\"></a>\n",
    "**4.iii. Analyse \"DevType\" Column.**<br>\n",
    "Now, we check for **developement Type(s)** that appear in more values (convert column to shorten the categories and map the data for further.)\n",
    "*Click [here](#toc) to go back to **Table of Contents**.*"
   ]
  },
  {
   "cell_type": "code",
   "execution_count": 19,
   "metadata": {},
   "outputs": [
    {
     "data": {
      "text/plain": [
       "5172"
      ]
     },
     "execution_count": 19,
     "metadata": {},
     "output_type": "execute_result"
    }
   ],
   "source": [
    "len(df['DevType'].unique())\n"
   ]
  },
  {
   "cell_type": "code",
   "execution_count": 20,
   "metadata": {},
   "outputs": [],
   "source": [
    "df['DevType'] = df['DevType'].str.split(\";\")\n",
    "df['DevType'] = df['DevType'].str[0]"
   ]
  },
  {
   "cell_type": "code",
   "execution_count": 21,
   "metadata": {},
   "outputs": [
    {
     "data": {
      "text/plain": [
       "23"
      ]
     },
     "execution_count": 21,
     "metadata": {},
     "output_type": "execute_result"
    }
   ],
   "source": [
    "len(df['DevType'].unique())"
   ]
  },
  {
   "cell_type": "code",
   "execution_count": 22,
   "metadata": {},
   "outputs": [
    {
     "data": {
      "text/plain": [
       "Developer, back-end                              11763\n",
       "Developer, full-stack                             3849\n",
       "Database administrator                            2155\n",
       "Developer, front-end                              1997\n",
       "Data or business analyst                          1870\n",
       "Academic researcher                               1769\n",
       "Designer                                          1438\n",
       "Developer, desktop or enterprise applications     1324\n",
       "Data scientist or machine learning specialist     1142\n",
       "Developer, mobile                                  826\n",
       "Developer, embedded applications or devices        526\n",
       "DevOps specialist                                  255\n",
       "Developer, QA or test                              204\n",
       "Engineer, data                                     129\n",
       "Engineering manager                                114\n",
       "Developer, game or graphics                        104\n",
       "System administrator                                72\n",
       "Engineer, site reliability                          47\n",
       "Senior executive/VP                                 43\n",
       "Scientist                                           39\n",
       "Product manager                                     29\n",
       "Educator                                            20\n",
       "Marketing or sales professional                      7\n",
       "Name: DevType, dtype: int64"
      ]
     },
     "execution_count": 22,
     "metadata": {},
     "output_type": "execute_result"
    }
   ],
   "source": [
    "df['DevType'].value_counts()"
   ]
  },
  {
   "cell_type": "code",
   "execution_count": 23,
   "metadata": {},
   "outputs": [],
   "source": [
    "def shorten_categories(categories, cutoff):\n",
    "    categorical_map = {}\n",
    "    for i in range(len(categories)):\n",
    "        if categories.values[i] >= cutoff:\n",
    "            categorical_map[categories.index[i]] = categories.index[i]\n",
    "        else:\n",
    "            categorical_map[categories.index[i]] = 'Other'\n",
    "    return categorical_map"
   ]
  },
  {
   "cell_type": "code",
   "execution_count": 24,
   "metadata": {},
   "outputs": [
    {
     "data": {
      "text/plain": [
       "Developer, back-end                              11763\n",
       "Developer, full-stack                             3849\n",
       "Database administrator                            2155\n",
       "Developer, front-end                              1997\n",
       "Data or business analyst                          1870\n",
       "Academic researcher                               1769\n",
       "Designer                                          1438\n",
       "Developer, desktop or enterprise applications     1324\n",
       "Data scientist or machine learning specialist     1142\n",
       "Developer, mobile                                  826\n",
       "Developer, embedded applications or devices        526\n",
       "Other                                              257\n",
       "DevOps specialist                                  255\n",
       "Developer, QA or test                              204\n",
       "Engineer, data                                     129\n",
       "Engineering manager                                114\n",
       "Developer, game or graphics                        104\n",
       "Name: DevType, dtype: int64"
      ]
     },
     "execution_count": 24,
     "metadata": {},
     "output_type": "execute_result"
    }
   ],
   "source": [
    "dev_map = shorten_categories(df['DevType'].value_counts(), 100)\n",
    "df['DevType']  = df['DevType'].map(dev_map)\n",
    "df['DevType'].value_counts()"
   ]
  },
  {
   "cell_type": "markdown",
   "metadata": {},
   "source": [
    "<a id=\"Country\"></a>\n",
    "**4.iv. Analyse \"Country\" Column.**<br>\n",
    "Now, we check for **countrie(s)** that appear in more values (convert column to shorten the categories and map the data for further.)\n",
    "*Click [here](#toc) to go back to **Table of Contents**.*"
   ]
  },
  {
   "cell_type": "code",
   "execution_count": 25,
   "metadata": {},
   "outputs": [
    {
     "data": {
      "text/plain": [
       "United States                       7468\n",
       "India                               2409\n",
       "United Kingdom                      2247\n",
       "Germany                             1891\n",
       "Canada                              1161\n",
       "Brazil                               985\n",
       "France                               966\n",
       "Spain                                666\n",
       "Australia                            650\n",
       "Netherlands                          648\n",
       "Poland                               564\n",
       "Italy                                556\n",
       "Russian Federation                   521\n",
       "Sweden                               508\n",
       "Turkey                               324\n",
       "Israel                               299\n",
       "Pakistan                             271\n",
       "Switzerland                          263\n",
       "Mexico                               255\n",
       "Norway                               251\n",
       "Ireland                              248\n",
       "Ukraine                              248\n",
       "Romania                              245\n",
       "South Africa                         244\n",
       "Czech Republic                       226\n",
       "Belgium                              217\n",
       "Iran                                 216\n",
       "Austria                              215\n",
       "Portugal                             213\n",
       "Denmark                              206\n",
       "                                    ... \n",
       "Oman                                   4\n",
       "Guyana                                 3\n",
       "Lao People's Democratic Republic       3\n",
       "Haiti                                  3\n",
       "Rwanda                                 3\n",
       "Zambia                                 3\n",
       "Botswana                               3\n",
       "Maldives                               3\n",
       "Togo                                   3\n",
       "Democratic Republic of the Congo       2\n",
       "Angola                                 2\n",
       "Somalia                                2\n",
       "Côte d'Ivoire                          2\n",
       "Mauritania                             2\n",
       "Senegal                                1\n",
       "Namibia                                1\n",
       "Saint Vincent and the Grenadines       1\n",
       "Andorra                                1\n",
       "Belize                                 1\n",
       "Yemen                                  1\n",
       "Turkmenistan                           1\n",
       "Niger                                  1\n",
       "San Marino                             1\n",
       "Monaco                                 1\n",
       "Swaziland                              1\n",
       "Guinea                                 1\n",
       "Fiji                                   1\n",
       "Benin                                  1\n",
       "Bahamas                                1\n",
       "Barbados                               1\n",
       "Name: Country, Length: 154, dtype: int64"
      ]
     },
     "execution_count": 25,
     "metadata": {},
     "output_type": "execute_result"
    }
   ],
   "source": [
    "df['Country'].value_counts()"
   ]
  },
  {
   "cell_type": "code",
   "execution_count": 27,
   "metadata": {},
   "outputs": [
    {
     "data": {
      "text/plain": [
       "Other                 8482\n",
       "United States         7468\n",
       "India                 2409\n",
       "United Kingdom        2247\n",
       "Germany               1891\n",
       "Canada                1161\n",
       "Brazil                 985\n",
       "France                 966\n",
       "Spain                  666\n",
       "Australia              650\n",
       "Netherlands            648\n",
       "Poland                 564\n",
       "Italy                  556\n",
       "Russian Federation     521\n",
       "Sweden                 508\n",
       "Name: Country, dtype: int64"
      ]
     },
     "execution_count": 27,
     "metadata": {},
     "output_type": "execute_result"
    }
   ],
   "source": [
    "country_map = shorten_categories(df.Country.value_counts(), 400)\n",
    "df['Country'] = df['Country'].map(country_map)\n",
    "df.Country.value_counts()"
   ]
  },
  {
   "cell_type": "markdown",
   "metadata": {},
   "source": [
    "<a id=\"\"></a>\n",
    "**5. Observations:**<br>\n",
    "1. we check for **Employment(s)** that appear in 3 values\n",
    "2. we check for **developement Type(s)** that appear in more values\n",
    "3. we check for **Dev Type(s)** that appear in more values\n",
    "4. we check for **Country(s)** that appear in more values\n",
    "\n",
    "**Actions:** \n",
    "1. We drop the Employment column\n",
    "2. We further convert columns to shorten the categories and map the data for further.\n",
    "\n",
    "*Click [here](#toc) to go back to **Table of Contents**.*"
   ]
  },
  {
   "cell_type": "markdown",
   "metadata": {},
   "source": [
    "<br>Plot a **box chart** showing the proportions of these two columns\n",
    "\n",
    "*Click [here](#toc) to go back to **Table of Contents**.*"
   ]
  },
  {
   "cell_type": "code",
   "execution_count": 28,
   "metadata": {},
   "outputs": [
    {
     "name": "stderr",
     "output_type": "stream",
     "text": [
      "C:\\Users\\gowtham.veepujerla\\AppData\\Local\\Continuum\\anaconda3\\lib\\site-packages\\numpy\\core\\_asarray.py:83: VisibleDeprecationWarning: Creating an ndarray from ragged nested sequences (which is a list-or-tuple of lists-or-tuples-or ndarrays with different lengths or shapes) is deprecated. If you meant to do this, you must specify 'dtype=object' when creating the ndarray\n",
      "  return array(a, dtype, copy=False, order=order)\n"
     ]
    },
    {
     "data": {
      "image/png": "[encoded data removed]",
      "text/plain": [
       "<Figure size 864x504 with 1 Axes>"
      ]
     },
     "metadata": {},
     "output_type": "display_data"
    }
   ],
   "source": [
    "fig, ax = plt.subplots(1,1, figsize=(12, 7))\n",
    "df.boxplot('Salary', 'Country', ax=ax)\n",
    "plt.suptitle('Salary (US$) v Country')\n",
    "plt.title('')\n",
    "plt.ylabel('Salary')\n",
    "plt.xticks(rotation=90)\n",
    "plt.show()"
   ]
  },
  {
   "cell_type": "code",
   "execution_count": null,
   "metadata": {},
   "outputs": [],
   "source": []
  },
  {
   "cell_type": "code",
   "execution_count": null,
   "metadata": {},
   "outputs": [],
   "source": [
    "df = df[df['Salary'] <= 250000]\n",
    "df = df[df['Salary'] >= 5000]\n",
    "df = df[df['Country'] != 'Other']\n",
    "df = df[df['DevType'] != 'Other']\n",
    "df = df[df['DevType'] != 'Other (please specify):']\n"
   ]
  },
  {
   "cell_type": "code",
   "execution_count": null,
   "metadata": {},
   "outputs": [],
   "source": [
    "df.head()"
   ]
  },
  {
   "cell_type": "code",
   "execution_count": null,
   "metadata": {},
   "outputs": [],
   "source": [
    "fig, ax = plt.subplots(1,1, figsize=(12, 7))\n",
    "df.boxplot('Salary', 'Country', ax=ax)\n",
    "plt.suptitle('Salary (US$) v Country')\n",
    "plt.title('')\n",
    "plt.ylabel('Salary')\n",
    "plt.xticks(rotation=90)\n",
    "plt.show()"
   ]
  },
  {
   "cell_type": "code",
   "execution_count": null,
   "metadata": {},
   "outputs": [],
   "source": [
    "df[\"YearsCodePro\"].unique()"
   ]
  },
  {
   "cell_type": "code",
   "execution_count": null,
   "metadata": {},
   "outputs": [],
   "source": [
    "def clean_experience(x):\n",
    "    if x ==  'More than 50 years':\n",
    "        return 50\n",
    "    if x == 'Less than 1 year':\n",
    "        return 0.5\n",
    "    return float(x)\n",
    "\n",
    "df['YearsCodePro'] = df['YearsCodePro'].apply(clean_experience)"
   ]
  },
  {
   "cell_type": "code",
   "execution_count": null,
   "metadata": {},
   "outputs": [],
   "source": [
    "df[\"EdLevel\"].unique()"
   ]
  },
  {
   "cell_type": "code",
   "execution_count": null,
   "metadata": {},
   "outputs": [],
   "source": [
    "def clean_education(x):\n",
    "    if 'Bachelor’s degree' in x:\n",
    "        return 'Bachelor’s degree'\n",
    "    if 'Master’s degree' in x:\n",
    "        return 'Master’s degree'\n",
    "    if 'Professional degree' in x or 'Other doctoral' in x:\n",
    "        return 'Post grad'\n",
    "    return 'Less than a Bachelors'\n",
    "\n",
    "df['EdLevel'] = df['EdLevel'].apply(clean_education)"
   ]
  },
  {
   "cell_type": "code",
   "execution_count": null,
   "metadata": {},
   "outputs": [],
   "source": [
    "df[\"EdLevel\"].unique()"
   ]
  },
  {
   "cell_type": "code",
   "execution_count": null,
   "metadata": {},
   "outputs": [],
   "source": [
    "df.isnull().sum()"
   ]
  },
  {
   "cell_type": "code",
   "execution_count": null,
   "metadata": {},
   "outputs": [],
   "source": [
    "e={'Bachelor’s degree':1, 'Master’s degree':2, 'Less than a Bachelors':0,\n",
    "       'Post grad':3}\n",
    "df['EdLevel'] = df['EdLevel'].map(e)"
   ]
  },
  {
   "cell_type": "code",
   "execution_count": null,
   "metadata": {},
   "outputs": [],
   "source": [
    "c={'Other': 0,  \n",
    "    'United States': 2,\n",
    "    'India': 1,\n",
    "    'United Kingdom': 3,\n",
    "    'Germany': 4,\n",
    "    'Canada': 5,\n",
    "    'Brazil': 6,\n",
    "    'France': 7,\n",
    "    'Spain': 8,\n",
    "    'Australia': 9,\n",
    "    'Netherlands': 10,\n",
    "    'Poland': 11,\n",
    "    'Italy': 12,\n",
    "    'Russian Federation': 13,\n",
    "    'Sweden': 14 }\n",
    "df['Country'] =df['Country'].map(c)"
   ]
  },
  {
   "cell_type": "code",
   "execution_count": null,
   "metadata": {},
   "outputs": [],
   "source": [
    "d = {'Developer, back-end': 0,\n",
    "     'Developer, full-stack': 1,\n",
    "     'Database administrator': 2,\n",
    "     'Developer, front-end': 3,\n",
    "     'Data or business analyst': 4,\n",
    "     'Academic researcher': 5,\n",
    "     'Designer': 6,\n",
    "     'Developer, desktop or enterprise applications': 7,\n",
    "     'Data scientist or machine learning specialist': 8,\n",
    "     'Developer, mobile': 9,\n",
    "     'Developer, embedded applications or devices': 10,\n",
    "     'Other': 11,\n",
    "     'DevOps specialist': 12,\n",
    "     'Developer, QA or test': 13,\n",
    "     'Engineer, data': 14,\n",
    "     'Engineering manager': 15,\n",
    "     'Developer, game or graphics': 16}\n",
    "\n",
    "df['DevType'] = df['DevType'].map(d)\n"
   ]
  },
  {
   "cell_type": "code",
   "execution_count": null,
   "metadata": {},
   "outputs": [],
   "source": [
    "df.isnull().sum()"
   ]
  },
  {
   "cell_type": "code",
   "execution_count": null,
   "metadata": {},
   "outputs": [],
   "source": [
    "X = df.drop(\"Salary\", axis=1)\n",
    "y = df[\"Salary\"]"
   ]
  },
  {
   "cell_type": "code",
   "execution_count": null,
   "metadata": {},
   "outputs": [],
   "source": [
    "## Check for multicollinearity\n",
    "import seaborn as sns\n",
    "\n",
    "plt.figure(figsize=(12,10))\n",
    "corr=df.corr()\n",
    "sns.heatmap(corr,annot=True)"
   ]
  },
  {
   "cell_type": "code",
   "execution_count": null,
   "metadata": {},
   "outputs": [],
   "source": [
    "##Train Test Split\n",
    "from sklearn.model_selection import train_test_split\n",
    "X_train,X_test,y_train,y_test = train_test_split(X,y,test_size= 0.2,random_state = 42)\n",
    "\n",
    "# print the shape of the training and testing datasets\n",
    "print(f\"Shape of X_train :{X_train.shape}\\nShape of X_test: {X_test.shape}\",\n",
    "      f\"\\nShape of y_train: {y_train.shape}\\nShape of y_test: {y_test.shape}\")"
   ]
  },
  {
   "cell_type": "code",
   "execution_count": null,
   "metadata": {},
   "outputs": [],
   "source": [
    "## Standardize the dataset\n",
    "from sklearn.preprocessing import StandardScaler\n",
    "scaler=StandardScaler()"
   ]
  },
  {
   "cell_type": "code",
   "execution_count": null,
   "metadata": {},
   "outputs": [],
   "source": [
    "X_train_scaled=scaler.fit_transform(X_train)"
   ]
  },
  {
   "cell_type": "code",
   "execution_count": null,
   "metadata": {},
   "outputs": [],
   "source": [
    "X_test_scaled=scaler.transform(X_test)"
   ]
  },
  {
   "cell_type": "code",
   "execution_count": null,
   "metadata": {},
   "outputs": [],
   "source": [
    "import pickle\n",
    "pickle.dump(scaler,open('scaling.pkl','wb'))"
   ]
  },
  {
   "cell_type": "code",
   "execution_count": null,
   "metadata": {},
   "outputs": [],
   "source": [
    "X_train_scaled"
   ]
  },
  {
   "cell_type": "code",
   "execution_count": null,
   "metadata": {},
   "outputs": [],
   "source": [
    "X_test_scaled"
   ]
  },
  {
   "cell_type": "markdown",
   "metadata": {},
   "source": [
    "## Box Plots To understand Effect Of Standard Scaler"
   ]
  },
  {
   "cell_type": "code",
   "execution_count": null,
   "metadata": {},
   "outputs": [],
   "source": [
    "plt.subplots(figsize=(15, 5))\n",
    "plt.subplot(1, 2, 1)\n",
    "sns.boxplot(data=X_train)\n",
    "plt.title('X_train Before Scaling')\n",
    "plt.subplot(1, 2, 2)\n",
    "sns.boxplot(data=X_train_scaled)\n",
    "plt.title('X_train After Scaling')"
   ]
  },
  {
   "cell_type": "markdown",
   "metadata": {},
   "source": [
    "## Building Prediction Models"
   ]
  },
  {
   "cell_type": "markdown",
   "metadata": {},
   "source": [
    "### Linear Regression"
   ]
  },
  {
   "cell_type": "code",
   "execution_count": null,
   "metadata": {},
   "outputs": [],
   "source": [
    "from sklearn.linear_model import LinearRegression\n",
    "linear_reg = LinearRegression()\n",
    "linear_reg.fit(X_train_scaled,y_train)"
   ]
  },
  {
   "cell_type": "code",
   "execution_count": null,
   "metadata": {},
   "outputs": [],
   "source": [
    "## print the coefficients and the intercept\n",
    "print(linear_reg.coef_)\n",
    "print(linear_reg.intercept_)"
   ]
  },
  {
   "cell_type": "code",
   "execution_count": null,
   "metadata": {},
   "outputs": [],
   "source": [
    "## on which parameters the model has been trained\n",
    "linear_reg.get_params()"
   ]
  },
  {
   "cell_type": "markdown",
   "metadata": {},
   "source": [
    "## Evaluation metrics for Regression analysis"
   ]
  },
  {
   "cell_type": "code",
   "execution_count": null,
   "metadata": {},
   "outputs": [],
   "source": [
    "from sklearn import metrics\n",
    " \n",
    "    print('Mean Absolute Error (MAE):', round(metrics.mean_absolute_error(y_test, y_pred),3))  \n",
    "\n",
    "    print('Mean Squared Error (MSE):', round(metrics.mean_squared_error(y_test, y_pred),3))  \n",
    "\n",
    "    print('Root Mean Squared Error (RMSE):', round(np.sqrt(metrics.mean_squared_error(y_test, y_pred)),3))\n",
    "\n",
    "    print('R2_score:', round(metrics.r2_score(y_test, y_pred),6))\n",
    "\n",
    "    print('Root Mean Squared Log Error (RMSLE):', round(np.log(np.sqrt(metrics.mean_squared_error(y_test, y_pred))),3))\n"
   ]
  },
  {
   "cell_type": "code",
   "execution_count": null,
   "metadata": {},
   "outputs": [],
   "source": [
    "y_pred = linear_reg.predict(X_test_scaled)"
   ]
  },
  {
   "cell_type": "code",
   "execution_count": null,
   "metadata": {},
   "outputs": [],
   "source": [
    "from sklearn.metrics import r2_score\n",
    "linear_score=r2_score(y_test,y_pred)\n",
    "print(linear_score)"
   ]
  },
  {
   "cell_type": "code",
   "execution_count": null,
   "metadata": {},
   "outputs": [],
   "source": [
    "from sklearn.metrics import mean_squared_error, mean_absolute_error\n",
    "import numpy as np\n",
    "error = np.sqrt(mean_squared_error(y_test, y_pred))"
   ]
  },
  {
   "cell_type": "code",
   "execution_count": null,
   "metadata": {},
   "outputs": [],
   "source": [
    "error"
   ]
  },
  {
   "cell_type": "code",
   "execution_count": null,
   "metadata": {},
   "outputs": [],
   "source": [
    "from sklearn.tree import DecisionTreeRegressor\n",
    "dec_tree_reg = DecisionTreeRegressor(random_state=1)\n",
    "dec_tree_reg.fit(X_train_scaled,y_train)"
   ]
  },
  {
   "cell_type": "code",
   "execution_count": null,
   "metadata": {},
   "outputs": [],
   "source": [
    "y_pred = dec_tree_reg.predict(X_test_scaled)"
   ]
  },
  {
   "cell_type": "code",
   "execution_count": null,
   "metadata": {},
   "outputs": [],
   "source": [
    "Dec_tree_score=r2_score(y_test,y_pred)\n",
    "print(Dec_tree_score)"
   ]
  },
  {
   "cell_type": "code",
   "execution_count": null,
   "metadata": {},
   "outputs": [],
   "source": [
    "error = np.sqrt(mean_squared_error(y_test, y_pred))\n",
    "print(\"${:,.02f}\".format(error))"
   ]
  },
  {
   "cell_type": "code",
   "execution_count": null,
   "metadata": {},
   "outputs": [],
   "source": [
    "from sklearn.ensemble import RandomForestRegressor\n",
    "random_forest_reg = RandomForestRegressor(random_state=1)\n",
    "random_forest_reg.fit(X_train_scaled,y_train)"
   ]
  },
  {
   "cell_type": "code",
   "execution_count": null,
   "metadata": {},
   "outputs": [],
   "source": [
    "y_pred = random_forest_reg.predict(X_test_scaled)"
   ]
  },
  {
   "cell_type": "code",
   "execution_count": null,
   "metadata": {},
   "outputs": [],
   "source": [
    "random_forest_score=r2_score(y_test,y_pred)\n",
    "print(random_forest_score)"
   ]
  },
  {
   "cell_type": "code",
   "execution_count": null,
   "metadata": {},
   "outputs": [],
   "source": [
    "error = np.sqrt(mean_squared_error(y_test, y_pred))\n",
    "print(\"${:,.02f}\".format(error))"
   ]
  },
  {
   "cell_type": "code",
   "execution_count": null,
   "metadata": {},
   "outputs": [],
   "source": [
    "from sklearn.model_selection import GridSearchCV\n",
    "\n",
    "max_depth = [None, 2,4,6,8,10,12]\n",
    "parameters = {\"max_depth\": max_depth}\n",
    "\n",
    "regressor = DecisionTreeRegressor(random_state=0)\n",
    "gs = GridSearchCV(regressor, parameters, scoring='neg_mean_squared_error')\n",
    "gs.fit(X_train_scaled,y_train)"
   ]
  },
  {
   "cell_type": "code",
   "execution_count": null,
   "metadata": {},
   "outputs": [],
   "source": [
    "regressor = gs.best_estimator_\n",
    "\n",
    "regressor.fit(X_train_scaled,y_train)\n",
    "y_pred = regressor.predict(X_test_scaled)\n",
    "error = np.sqrt(mean_squared_error(y_test, y_pred))\n",
    "print(\"${:,.02f}\".format(error))"
   ]
  },
  {
   "cell_type": "code",
   "execution_count": null,
   "metadata": {},
   "outputs": [],
   "source": [
    "from sklearn.metrics import r2_score\n",
    "score=r2_score(y_test,y_pred)\n",
    "print(score)"
   ]
  },
  {
   "cell_type": "code",
   "execution_count": null,
   "metadata": {
    "scrolled": true
   },
   "outputs": [],
   "source": [
    "X"
   ]
  },
  {
   "cell_type": "code",
   "execution_count": null,
   "metadata": {},
   "outputs": [],
   "source": [
    "# country, edlevel, yearscode\n",
    "X = np.array([[\"United States\", 'Master’s degree', 'Developer, full-stack', 15 ]])\n",
    "X"
   ]
  },
  {
   "cell_type": "code",
   "execution_count": null,
   "metadata": {},
   "outputs": [],
   "source": [
    "'''X[:, 0] = le_country.transform(X[:,0])\n",
    "X[:, 1] = le_education.transform(X[:,1])\n",
    "X = X.astype(float)\n",
    "X'''"
   ]
  },
  {
   "cell_type": "code",
   "execution_count": null,
   "metadata": {},
   "outputs": [],
   "source": [
    "import pandas as pd\n",
    "\n",
    "# Assuming X is your feature matrix\n",
    "country_mapping = {country: i for i, country in enumerate(np.unique(X[:, 0]))}\n",
    "education_mapping = {education: i for i, education in enumerate(np.unique(X[:, 1]))}\n",
    "devtype_mapping = {devtype: i for i, devtype in enumerate(np.unique(X[:, 2]))}\n",
    "\n",
    "\n",
    "# Apply the mapping to the respective columns\n",
    "X[:, 0] = np.vectorize(country_mapping.get)(X[:, 0])\n",
    "X[:, 1] = np.vectorize(education_mapping.get)(X[:, 1])\n",
    "X[:, 2] = np.vectorize(devtype_mapping.get)(X[:, 2])\n",
    "\n",
    "# Convert the entire matrix to float\n",
    "X = X.astype(float)\n",
    "\n",
    "# Print the modified feature matrix\n",
    "print(X)\n"
   ]
  },
  {
   "cell_type": "code",
   "execution_count": null,
   "metadata": {},
   "outputs": [],
   "source": [
    "y_pred = regressor.predict(X)\n",
    "y_pred"
   ]
  },
  {
   "cell_type": "markdown",
   "metadata": {},
   "source": [
    "## Pickling The Model file For Deployment"
   ]
  },
  {
   "cell_type": "code",
   "execution_count": null,
   "metadata": {},
   "outputs": [],
   "source": [
    "import pickle"
   ]
  },
  {
   "cell_type": "code",
   "execution_count": null,
   "metadata": {},
   "outputs": [],
   "source": [
    "data = {\"model\": regressor, \"country_mapping\": country_mapping, \"education_mapping\": education_mapping, \"devtype_mapping\":devtype_mapping}\n",
    "with open('regmodel.pkl', 'wb') as file:\n",
    "    pickle.dump(data, file)"
   ]
  },
  {
   "cell_type": "code",
   "execution_count": null,
   "metadata": {},
   "outputs": [],
   "source": [
    "with open('regmodel.pkl', 'rb') as file:\n",
    "    data = pickle.load(file)\n",
    "\n",
    "regressor_loaded = data[\"model\"]\n",
    "country_mapping = data[\"country_mapping\"]\n",
    "education_mapping = data[\"education_mapping\"]\n",
    "devtype_mapping  = data['devtype_mapping']"
   ]
  },
  {
   "cell_type": "code",
   "execution_count": null,
   "metadata": {},
   "outputs": [],
   "source": [
    "y_pred = regressor_loaded.predict(X)\n",
    "y_pred"
   ]
  },
  {
   "cell_type": "code",
   "execution_count": null,
   "metadata": {},
   "outputs": [],
   "source": []
  },
  {
   "cell_type": "code",
   "execution_count": null,
   "metadata": {},
   "outputs": [],
   "source": []
  }
 ],
 "metadata": {
  "kernelspec": {
   "display_name": "Python 3",
   "language": "python",
   "name": "python3"
  },
  "language_info": {
   "codemirror_mode": {
    "name": "ipython",
    "version": 3
   },
   "file_extension": ".py",
   "mimetype": "text/x-python",
   "name": "python",
   "nbconvert_exporter": "python",
   "pygments_lexer": "ipython3",
   "version": "3.6.5"
  }
 },
 "nbformat": 4,
 "nbformat_minor": 5
}
