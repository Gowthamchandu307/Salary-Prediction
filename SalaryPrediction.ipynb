{
 "cells": [
  {
   "cell_type": "markdown",
   "metadata": {},
   "source": [
    "### **PROJECT: Prediction of Salary of Employees..**\n",
    "\n",
    "***By: Gowtham Chandu***"
   ]
  },
  {
   "cell_type": "markdown",
   "metadata": {},
   "source": [
    "<a id=\"toc\"></a>\n",
    "#### **TABLE OF CONTENTS:**\n",
    "1. [BACKGROUND AND MOTIVATIONS](#background)<br>\n",
    "2. [OBJECTIVES](#objectives)<br>\n",
    "3. [DATA EXTRACTION](#data_extraction)<br>\n",
    "    a. [Import Relevant Libraries](#import_libraries)<br>\n",
    "    b. [Read the dataset to a pandas dataframe](#read_dataset_to_dataframe)<br>\n",
    "4. [Exploratory Data Analysis(EDA)](#eda)<br>\n",
    "    &emsp;i. [Preliminary Data Cleaning](#preliminary_data_cleaning)<br>\n",
    "    &emsp;ii. [Analyse \"Employment\" Column](#Employment)<br>\n",
    "    &emsp;iii. [Analyse \"DevType\" Column](#DevType)<br>\n",
    "    &emsp;iv. [Analyse \"Country\" Column](#Country)<br>\n",
    "5. [Observations](#Observations)<br>\n",
    "6. [DATA PREPROCESSING](#data_preprocessing)<br>\n",
    "7. [Data Transformation](#data_transformation)<br>\n",
    "    a. [Split the Dataset](#split_dataset)<br>\n",
    "8. [Building MODELS FOR PREDICTION](#models)<br>\n",
    "    a. [Linear Regression](#LinearRegression)<br>\n",
    "    b. [Decision Tree Regressior](#DecisionTreeRegressor)<br>\n",
    "    c. [Random Forest Regressior](#RandoForestRegressor)<br>\n",
    "    &emsp;&emsp;i. [Hyperparameter Tuning](#dt_estimator)<br>   \n",
    "9. [Pickling The Model file For Deployment](#pickle)<br>\n",
    "    "
   ]
  },
  {
   "cell_type": "markdown",
   "metadata": {},
   "source": [
    "<a id='background'></a>\n",
    "#### **1. BACKGROUND AND MOTIVATION:**\n",
    "* **Motivation:** Salary prediction allows individuals to receive personalized insights into what their expected income might be based on various factors.\n",
    "\n",
    "\n",
    "<br>*Click [here](#toc) to go back to **Table of Contents**.*"
   ]
  },
  {
   "cell_type": "markdown",
   "metadata": {},
   "source": [
    "<a id=\"objectives\"></a>\n",
    "#### **2. OBJECTIVES**\n",
    "**(Enhance Hiring Processes):** \n",
    " Improve the efficiency of the recruitment process by providing HR professionals with accurate salary estimates.<br>\n",
    "**(Empower Job Seekers):**\n",
    " Empower job seekers with realistic salary expectations.\n",
    "\n",
    "<br>*Click [here](#toc) to go back to **Table of Contents**.*"
   ]
  },
  {
   "cell_type": "markdown",
   "metadata": {},
   "source": [
    "<a id=\"data_extraction\"></a>\n",
    "#### **3. DATA EXTRACTION**\n",
    "<a id=\"import_libraries\"></a>\n",
    "##### **3.a. Import relevant libraries**\n",
    "\n",
    "*Click [here](#toc) to go back to **Table of Contents**.*"
   ]
  },
  {
   "cell_type": "code",
   "execution_count": 1,
   "metadata": {},
   "outputs": [],
   "source": [
    "import pandas as pd\n",
    "import numpy as np\n",
    "import matplotlib.pyplot as plt\n",
    "\n"
   ]
  },
  {
   "cell_type": "markdown",
   "metadata": {},
   "source": [
    "<a id=\"read_dataset_to_dataframe\"></a>\n",
    "##### **3.b. Read the dataset to a temporary pandas dataframe**\n",
    "* The dataset in the \"*survey_results_public.csv*\" file is what we need and thus, we extract and read this dataset into pandas dataframe\n",
    "\n",
    "*Click [here](#toc) to go back to **Table of Contents**.*"
   ]
  },
  {
   "cell_type": "code",
   "execution_count": 2,
   "metadata": {},
   "outputs": [],
   "source": [
    "df = pd.read_csv(\"survey_results_public.csv\")"
   ]
  },
  {
   "cell_type": "code",
   "execution_count": 3,
   "metadata": {},
   "outputs": [],
   "source": [
    "bk=df.copy()"
   ]
  },
  {
   "cell_type": "code",
   "execution_count": 4,
   "metadata": {},
   "outputs": [
    {
     "data": {
      "text/html": [
       "<div>\n",
       "<style scoped>\n",
       "    .dataframe tbody tr th:only-of-type {\n",
       "        vertical-align: middle;\n",
       "    }\n",
       "\n",
       "    .dataframe tbody tr th {\n",
       "        vertical-align: top;\n",
       "    }\n",
       "\n",
       "    .dataframe thead th {\n",
       "        text-align: right;\n",
       "    }\n",
       "</style>\n",
       "<table border=\"1\" class=\"dataframe\">\n",
       "  <thead>\n",
       "    <tr style=\"text-align: right;\">\n",
       "      <th></th>\n",
       "      <th>Respondent</th>\n",
       "      <th>MainBranch</th>\n",
       "      <th>Hobbyist</th>\n",
       "      <th>Age</th>\n",
       "      <th>Age1stCode</th>\n",
       "      <th>CompFreq</th>\n",
       "      <th>CompTotal</th>\n",
       "      <th>ConvertedComp</th>\n",
       "      <th>Country</th>\n",
       "      <th>CurrencyDesc</th>\n",
       "      <th>...</th>\n",
       "      <th>SurveyEase</th>\n",
       "      <th>SurveyLength</th>\n",
       "      <th>Trans</th>\n",
       "      <th>UndergradMajor</th>\n",
       "      <th>WebframeDesireNextYear</th>\n",
       "      <th>WebframeWorkedWith</th>\n",
       "      <th>WelcomeChange</th>\n",
       "      <th>WorkWeekHrs</th>\n",
       "      <th>YearsCode</th>\n",
       "      <th>YearsCodePro</th>\n",
       "    </tr>\n",
       "  </thead>\n",
       "  <tbody>\n",
       "    <tr>\n",
       "      <th>0</th>\n",
       "      <td>1</td>\n",
       "      <td>I am a developer by profession</td>\n",
       "      <td>Yes</td>\n",
       "      <td>NaN</td>\n",
       "      <td>13</td>\n",
       "      <td>Monthly</td>\n",
       "      <td>NaN</td>\n",
       "      <td>NaN</td>\n",
       "      <td>Germany</td>\n",
       "      <td>European Euro</td>\n",
       "      <td>...</td>\n",
       "      <td>Neither easy nor difficult</td>\n",
       "      <td>Appropriate in length</td>\n",
       "      <td>No</td>\n",
       "      <td>Computer science, computer engineering, or sof...</td>\n",
       "      <td>ASP.NET Core</td>\n",
       "      <td>ASP.NET;ASP.NET Core</td>\n",
       "      <td>Just as welcome now as I felt last year</td>\n",
       "      <td>50.0</td>\n",
       "      <td>36</td>\n",
       "      <td>27</td>\n",
       "    </tr>\n",
       "    <tr>\n",
       "      <th>1</th>\n",
       "      <td>2</td>\n",
       "      <td>I am a developer by profession</td>\n",
       "      <td>No</td>\n",
       "      <td>NaN</td>\n",
       "      <td>19</td>\n",
       "      <td>NaN</td>\n",
       "      <td>NaN</td>\n",
       "      <td>NaN</td>\n",
       "      <td>United Kingdom</td>\n",
       "      <td>Pound sterling</td>\n",
       "      <td>...</td>\n",
       "      <td>NaN</td>\n",
       "      <td>NaN</td>\n",
       "      <td>NaN</td>\n",
       "      <td>Computer science, computer engineering, or sof...</td>\n",
       "      <td>NaN</td>\n",
       "      <td>NaN</td>\n",
       "      <td>Somewhat more welcome now than last year</td>\n",
       "      <td>NaN</td>\n",
       "      <td>7</td>\n",
       "      <td>4</td>\n",
       "    </tr>\n",
       "    <tr>\n",
       "      <th>2</th>\n",
       "      <td>3</td>\n",
       "      <td>I code primarily as a hobby</td>\n",
       "      <td>Yes</td>\n",
       "      <td>NaN</td>\n",
       "      <td>15</td>\n",
       "      <td>NaN</td>\n",
       "      <td>NaN</td>\n",
       "      <td>NaN</td>\n",
       "      <td>Russian Federation</td>\n",
       "      <td>NaN</td>\n",
       "      <td>...</td>\n",
       "      <td>Neither easy nor difficult</td>\n",
       "      <td>Appropriate in length</td>\n",
       "      <td>NaN</td>\n",
       "      <td>NaN</td>\n",
       "      <td>NaN</td>\n",
       "      <td>NaN</td>\n",
       "      <td>Somewhat more welcome now than last year</td>\n",
       "      <td>NaN</td>\n",
       "      <td>4</td>\n",
       "      <td>NaN</td>\n",
       "    </tr>\n",
       "    <tr>\n",
       "      <th>3</th>\n",
       "      <td>4</td>\n",
       "      <td>I am a developer by profession</td>\n",
       "      <td>Yes</td>\n",
       "      <td>25.0</td>\n",
       "      <td>18</td>\n",
       "      <td>NaN</td>\n",
       "      <td>NaN</td>\n",
       "      <td>NaN</td>\n",
       "      <td>Albania</td>\n",
       "      <td>Albanian lek</td>\n",
       "      <td>...</td>\n",
       "      <td>NaN</td>\n",
       "      <td>NaN</td>\n",
       "      <td>No</td>\n",
       "      <td>Computer science, computer engineering, or sof...</td>\n",
       "      <td>NaN</td>\n",
       "      <td>NaN</td>\n",
       "      <td>Somewhat less welcome now than last year</td>\n",
       "      <td>40.0</td>\n",
       "      <td>7</td>\n",
       "      <td>4</td>\n",
       "    </tr>\n",
       "    <tr>\n",
       "      <th>4</th>\n",
       "      <td>5</td>\n",
       "      <td>I used to be a developer by profession, but no...</td>\n",
       "      <td>Yes</td>\n",
       "      <td>31.0</td>\n",
       "      <td>16</td>\n",
       "      <td>NaN</td>\n",
       "      <td>NaN</td>\n",
       "      <td>NaN</td>\n",
       "      <td>United States</td>\n",
       "      <td>NaN</td>\n",
       "      <td>...</td>\n",
       "      <td>Easy</td>\n",
       "      <td>Too short</td>\n",
       "      <td>No</td>\n",
       "      <td>Computer science, computer engineering, or sof...</td>\n",
       "      <td>Django;Ruby on Rails</td>\n",
       "      <td>Ruby on Rails</td>\n",
       "      <td>Just as welcome now as I felt last year</td>\n",
       "      <td>NaN</td>\n",
       "      <td>15</td>\n",
       "      <td>8</td>\n",
       "    </tr>\n",
       "  </tbody>\n",
       "</table>\n",
       "<p>5 rows × 61 columns</p>\n",
       "</div>"
      ],
      "text/plain": [
       "   Respondent                                         MainBranch Hobbyist  \\\n",
       "0           1                     I am a developer by profession      Yes   \n",
       "1           2                     I am a developer by profession       No   \n",
       "2           3                        I code primarily as a hobby      Yes   \n",
       "3           4                     I am a developer by profession      Yes   \n",
       "4           5  I used to be a developer by profession, but no...      Yes   \n",
       "\n",
       "    Age Age1stCode CompFreq  CompTotal  ConvertedComp             Country  \\\n",
       "0   NaN         13  Monthly        NaN            NaN             Germany   \n",
       "1   NaN         19      NaN        NaN            NaN      United Kingdom   \n",
       "2   NaN         15      NaN        NaN            NaN  Russian Federation   \n",
       "3  25.0         18      NaN        NaN            NaN             Albania   \n",
       "4  31.0         16      NaN        NaN            NaN       United States   \n",
       "\n",
       "     CurrencyDesc     ...                       SurveyEase  \\\n",
       "0   European Euro     ...       Neither easy nor difficult   \n",
       "1  Pound sterling     ...                              NaN   \n",
       "2             NaN     ...       Neither easy nor difficult   \n",
       "3    Albanian lek     ...                              NaN   \n",
       "4             NaN     ...                             Easy   \n",
       "\n",
       "            SurveyLength Trans  \\\n",
       "0  Appropriate in length    No   \n",
       "1                    NaN   NaN   \n",
       "2  Appropriate in length   NaN   \n",
       "3                    NaN    No   \n",
       "4              Too short    No   \n",
       "\n",
       "                                      UndergradMajor WebframeDesireNextYear  \\\n",
       "0  Computer science, computer engineering, or sof...           ASP.NET Core   \n",
       "1  Computer science, computer engineering, or sof...                    NaN   \n",
       "2                                                NaN                    NaN   \n",
       "3  Computer science, computer engineering, or sof...                    NaN   \n",
       "4  Computer science, computer engineering, or sof...   Django;Ruby on Rails   \n",
       "\n",
       "     WebframeWorkedWith                             WelcomeChange WorkWeekHrs  \\\n",
       "0  ASP.NET;ASP.NET Core   Just as welcome now as I felt last year        50.0   \n",
       "1                   NaN  Somewhat more welcome now than last year         NaN   \n",
       "2                   NaN  Somewhat more welcome now than last year         NaN   \n",
       "3                   NaN  Somewhat less welcome now than last year        40.0   \n",
       "4         Ruby on Rails   Just as welcome now as I felt last year         NaN   \n",
       "\n",
       "  YearsCode YearsCodePro  \n",
       "0        36           27  \n",
       "1         7            4  \n",
       "2         4          NaN  \n",
       "3         7            4  \n",
       "4        15            8  \n",
       "\n",
       "[5 rows x 61 columns]"
      ]
     },
     "execution_count": 4,
     "metadata": {},
     "output_type": "execute_result"
    }
   ],
   "source": [
    "df.head()"
   ]
  },
  {
   "cell_type": "markdown",
   "metadata": {},
   "source": [
    "<a id=\"eda\"></a>\n",
    "##### **4. Exploratory Data Analysis (EDA)**\n",
    "\n",
    "*Click [here](#toc) to go back to **Table of Contents**.*"
   ]
  },
  {
   "cell_type": "code",
   "execution_count": 5,
   "metadata": {},
   "outputs": [
    {
     "data": {
      "text/html": [
       "<div>\n",
       "<style scoped>\n",
       "    .dataframe tbody tr th:only-of-type {\n",
       "        vertical-align: middle;\n",
       "    }\n",
       "\n",
       "    .dataframe tbody tr th {\n",
       "        vertical-align: top;\n",
       "    }\n",
       "\n",
       "    .dataframe thead th {\n",
       "        text-align: right;\n",
       "    }\n",
       "</style>\n",
       "<table border=\"1\" class=\"dataframe\">\n",
       "  <thead>\n",
       "    <tr style=\"text-align: right;\">\n",
       "      <th></th>\n",
       "      <th>Country</th>\n",
       "      <th>DevType</th>\n",
       "      <th>EdLevel</th>\n",
       "      <th>YearsCodePro</th>\n",
       "      <th>Employment</th>\n",
       "      <th>Salary</th>\n",
       "    </tr>\n",
       "  </thead>\n",
       "  <tbody>\n",
       "    <tr>\n",
       "      <th>0</th>\n",
       "      <td>Germany</td>\n",
       "      <td>Developer, desktop or enterprise applications;...</td>\n",
       "      <td>Master’s degree (M.A., M.S., M.Eng., MBA, etc.)</td>\n",
       "      <td>27</td>\n",
       "      <td>Independent contractor, freelancer, or self-em...</td>\n",
       "      <td>NaN</td>\n",
       "    </tr>\n",
       "    <tr>\n",
       "      <th>1</th>\n",
       "      <td>United Kingdom</td>\n",
       "      <td>Developer, full-stack;Developer, mobile</td>\n",
       "      <td>Bachelor’s degree (B.A., B.S., B.Eng., etc.)</td>\n",
       "      <td>4</td>\n",
       "      <td>Employed full-time</td>\n",
       "      <td>NaN</td>\n",
       "    </tr>\n",
       "    <tr>\n",
       "      <th>2</th>\n",
       "      <td>Russian Federation</td>\n",
       "      <td>NaN</td>\n",
       "      <td>NaN</td>\n",
       "      <td>NaN</td>\n",
       "      <td>NaN</td>\n",
       "      <td>NaN</td>\n",
       "    </tr>\n",
       "    <tr>\n",
       "      <th>3</th>\n",
       "      <td>Albania</td>\n",
       "      <td>NaN</td>\n",
       "      <td>Master’s degree (M.A., M.S., M.Eng., MBA, etc.)</td>\n",
       "      <td>4</td>\n",
       "      <td>NaN</td>\n",
       "      <td>NaN</td>\n",
       "    </tr>\n",
       "    <tr>\n",
       "      <th>4</th>\n",
       "      <td>United States</td>\n",
       "      <td>NaN</td>\n",
       "      <td>Bachelor’s degree (B.A., B.S., B.Eng., etc.)</td>\n",
       "      <td>8</td>\n",
       "      <td>Employed full-time</td>\n",
       "      <td>NaN</td>\n",
       "    </tr>\n",
       "  </tbody>\n",
       "</table>\n",
       "</div>"
      ],
      "text/plain": [
       "              Country                                            DevType  \\\n",
       "0             Germany  Developer, desktop or enterprise applications;...   \n",
       "1      United Kingdom            Developer, full-stack;Developer, mobile   \n",
       "2  Russian Federation                                                NaN   \n",
       "3             Albania                                                NaN   \n",
       "4       United States                                                NaN   \n",
       "\n",
       "                                           EdLevel YearsCodePro  \\\n",
       "0  Master’s degree (M.A., M.S., M.Eng., MBA, etc.)           27   \n",
       "1     Bachelor’s degree (B.A., B.S., B.Eng., etc.)            4   \n",
       "2                                              NaN          NaN   \n",
       "3  Master’s degree (M.A., M.S., M.Eng., MBA, etc.)            4   \n",
       "4     Bachelor’s degree (B.A., B.S., B.Eng., etc.)            8   \n",
       "\n",
       "                                          Employment  Salary  \n",
       "0  Independent contractor, freelancer, or self-em...     NaN  \n",
       "1                                 Employed full-time     NaN  \n",
       "2                                                NaN     NaN  \n",
       "3                                                NaN     NaN  \n",
       "4                                 Employed full-time     NaN  "
      ]
     },
     "execution_count": 5,
     "metadata": {},
     "output_type": "execute_result"
    }
   ],
   "source": [
    "df = df[[\"Country\", \"DevType\", \"EdLevel\", \"YearsCodePro\", \"Employment\", \"ConvertedComp\"]]\n",
    "df = df.rename({\"ConvertedComp\": \"Salary\"}, axis=1)\n",
    "df.head()"
   ]
  },
  {
   "cell_type": "code",
   "execution_count": 6,
   "metadata": {},
   "outputs": [
    {
     "name": "stdout",
     "output_type": "stream",
     "text": [
      "<class 'pandas.core.frame.DataFrame'>\n",
      "RangeIndex: 64461 entries, 0 to 64460\n",
      "Data columns (total 6 columns):\n",
      "Country         64072 non-null object\n",
      "DevType         49370 non-null object\n",
      "EdLevel         57431 non-null object\n",
      "YearsCodePro    46349 non-null object\n",
      "Employment      63854 non-null object\n",
      "Salary          34756 non-null float64\n",
      "dtypes: float64(1), object(5)\n",
      "memory usage: 3.0+ MB\n"
     ]
    }
   ],
   "source": [
    "df.info()"
   ]
  },
  {
   "cell_type": "code",
   "execution_count": 7,
   "metadata": {},
   "outputs": [
    {
     "data": {
      "text/html": [
       "<div>\n",
       "<style scoped>\n",
       "    .dataframe tbody tr th:only-of-type {\n",
       "        vertical-align: middle;\n",
       "    }\n",
       "\n",
       "    .dataframe tbody tr th {\n",
       "        vertical-align: top;\n",
       "    }\n",
       "\n",
       "    .dataframe thead th {\n",
       "        text-align: right;\n",
       "    }\n",
       "</style>\n",
       "<table border=\"1\" class=\"dataframe\">\n",
       "  <thead>\n",
       "    <tr style=\"text-align: right;\">\n",
       "      <th></th>\n",
       "      <th>Country</th>\n",
       "      <th>DevType</th>\n",
       "      <th>EdLevel</th>\n",
       "      <th>YearsCodePro</th>\n",
       "      <th>Employment</th>\n",
       "      <th>Salary</th>\n",
       "    </tr>\n",
       "  </thead>\n",
       "  <tbody>\n",
       "    <tr>\n",
       "      <th>7</th>\n",
       "      <td>United States</td>\n",
       "      <td>Developer, back-end;Developer, desktop or ente...</td>\n",
       "      <td>Bachelor’s degree (B.A., B.S., B.Eng., etc.)</td>\n",
       "      <td>13</td>\n",
       "      <td>Employed full-time</td>\n",
       "      <td>116000.0</td>\n",
       "    </tr>\n",
       "    <tr>\n",
       "      <th>9</th>\n",
       "      <td>United Kingdom</td>\n",
       "      <td>Database administrator;Developer, full-stack;D...</td>\n",
       "      <td>Master’s degree (M.A., M.S., M.Eng., MBA, etc.)</td>\n",
       "      <td>4</td>\n",
       "      <td>Employed full-time</td>\n",
       "      <td>32315.0</td>\n",
       "    </tr>\n",
       "    <tr>\n",
       "      <th>10</th>\n",
       "      <td>United Kingdom</td>\n",
       "      <td>Developer, back-end;Developer, desktop or ente...</td>\n",
       "      <td>Bachelor’s degree (B.A., B.S., B.Eng., etc.)</td>\n",
       "      <td>2</td>\n",
       "      <td>Employed full-time</td>\n",
       "      <td>40070.0</td>\n",
       "    </tr>\n",
       "    <tr>\n",
       "      <th>11</th>\n",
       "      <td>Spain</td>\n",
       "      <td>Designer;Developer, front-end</td>\n",
       "      <td>Some college/university study without earning ...</td>\n",
       "      <td>7</td>\n",
       "      <td>Employed full-time</td>\n",
       "      <td>14268.0</td>\n",
       "    </tr>\n",
       "    <tr>\n",
       "      <th>12</th>\n",
       "      <td>Netherlands</td>\n",
       "      <td>Designer;Developer, back-end</td>\n",
       "      <td>Secondary school (e.g. American high school, G...</td>\n",
       "      <td>20</td>\n",
       "      <td>Employed full-time</td>\n",
       "      <td>38916.0</td>\n",
       "    </tr>\n",
       "  </tbody>\n",
       "</table>\n",
       "</div>"
      ],
      "text/plain": [
       "           Country                                            DevType  \\\n",
       "7    United States  Developer, back-end;Developer, desktop or ente...   \n",
       "9   United Kingdom  Database administrator;Developer, full-stack;D...   \n",
       "10  United Kingdom  Developer, back-end;Developer, desktop or ente...   \n",
       "11           Spain                      Designer;Developer, front-end   \n",
       "12     Netherlands                       Designer;Developer, back-end   \n",
       "\n",
       "                                              EdLevel YearsCodePro  \\\n",
       "7        Bachelor’s degree (B.A., B.S., B.Eng., etc.)           13   \n",
       "9     Master’s degree (M.A., M.S., M.Eng., MBA, etc.)            4   \n",
       "10       Bachelor’s degree (B.A., B.S., B.Eng., etc.)            2   \n",
       "11  Some college/university study without earning ...            7   \n",
       "12  Secondary school (e.g. American high school, G...           20   \n",
       "\n",
       "            Employment    Salary  \n",
       "7   Employed full-time  116000.0  \n",
       "9   Employed full-time   32315.0  \n",
       "10  Employed full-time   40070.0  \n",
       "11  Employed full-time   14268.0  \n",
       "12  Employed full-time   38916.0  "
      ]
     },
     "execution_count": 7,
     "metadata": {},
     "output_type": "execute_result"
    }
   ],
   "source": [
    "df = df[df[\"Salary\"].notnull()]\n",
    "df.head()"
   ]
  },
  {
   "cell_type": "code",
   "execution_count": 8,
   "metadata": {},
   "outputs": [
    {
     "name": "stdout",
     "output_type": "stream",
     "text": [
      "<class 'pandas.core.frame.DataFrame'>\n",
      "Int64Index: 34756 entries, 7 to 64154\n",
      "Data columns (total 6 columns):\n",
      "Country         34756 non-null object\n",
      "DevType         34367 non-null object\n",
      "EdLevel         34188 non-null object\n",
      "YearsCodePro    34621 non-null object\n",
      "Employment      34717 non-null object\n",
      "Salary          34756 non-null float64\n",
      "dtypes: float64(1), object(5)\n",
      "memory usage: 1.9+ MB\n"
     ]
    }
   ],
   "source": [
    "df.info()"
   ]
  },
  {
   "cell_type": "markdown",
   "metadata": {},
   "source": [
    "<a id=\"preliminary_data_cleaning\"></a>\n",
    "**4.i. Preliminary Data Cleaning**<br>\n",
    "we read and store the preliminary cleaned dataset in pandas dataframe **\"df\"**.\n",
    "\n",
    "*Click [here](#toc) to go back to **Table of Contents**.*"
   ]
  },
  {
   "cell_type": "code",
   "execution_count": 9,
   "metadata": {},
   "outputs": [
    {
     "data": {
      "text/plain": [
       "Country         0\n",
       "DevType         0\n",
       "EdLevel         0\n",
       "YearsCodePro    0\n",
       "Employment      0\n",
       "Salary          0\n",
       "dtype: int64"
      ]
     },
     "execution_count": 9,
     "metadata": {},
     "output_type": "execute_result"
    }
   ],
   "source": [
    "df = df.dropna()\n",
    "df.isnull().sum()"
   ]
  },
  {
   "cell_type": "code",
   "execution_count": 10,
   "metadata": {},
   "outputs": [
    {
     "data": {
      "text/plain": [
       "array(['Employed full-time',\n",
       "       'Independent contractor, freelancer, or self-employed',\n",
       "       'Employed part-time'], dtype=object)"
      ]
     },
     "execution_count": 10,
     "metadata": {},
     "output_type": "execute_result"
    }
   ],
   "source": [
    "df['Employment'].unique()"
   ]
  },
  {
   "cell_type": "code",
   "execution_count": 11,
   "metadata": {},
   "outputs": [],
   "source": [
    "df['Employment'] = df['Employment'].str.split(\";\")\n",
    "df['Employment'] = df['Employment'].str[0]\n"
   ]
  },
  {
   "cell_type": "code",
   "execution_count": 12,
   "metadata": {},
   "outputs": [
    {
     "data": {
      "text/plain": [
       "array(['Employed full-time',\n",
       "       'Independent contractor, freelancer, or self-employed',\n",
       "       'Employed part-time'], dtype=object)"
      ]
     },
     "execution_count": 12,
     "metadata": {},
     "output_type": "execute_result"
    }
   ],
   "source": [
    "df['Employment'].unique()"
   ]
  },
  {
   "cell_type": "code",
   "execution_count": 13,
   "metadata": {},
   "outputs": [
    {
     "data": {
      "text/plain": [
       "Employed full-time                                      29722\n",
       "Independent contractor, freelancer, or self-employed     2977\n",
       "Employed part-time                                        997\n",
       "Name: Employment, dtype: int64"
      ]
     },
     "execution_count": 13,
     "metadata": {},
     "output_type": "execute_result"
    }
   ],
   "source": [
    "df['Employment'].value_counts()"
   ]
  },
  {
   "cell_type": "markdown",
   "metadata": {},
   "source": [
    "<a id=\"Employment\"></a>\n",
    "**4.ii. Analyse \"Employment\" Column.**<br>\n",
    "Now, we check for **Employment(s)** that appear in 3 values (convert column to \"Employed Full-Time\" and Drop the column)\n",
    "\n",
    "*Click [here](#toc) to go back to **Table of Contents**.*"
   ]
  },
  {
   "cell_type": "code",
   "execution_count": 14,
   "metadata": {},
   "outputs": [
    {
     "name": "stdout",
     "output_type": "stream",
     "text": [
      "<class 'pandas.core.frame.DataFrame'>\n",
      "Int64Index: 29722 entries, 7 to 64154\n",
      "Data columns (total 5 columns):\n",
      "Country         29722 non-null object\n",
      "DevType         29722 non-null object\n",
      "EdLevel         29722 non-null object\n",
      "YearsCodePro    29722 non-null object\n",
      "Salary          29722 non-null float64\n",
      "dtypes: float64(1), object(4)\n",
      "memory usage: 1.4+ MB\n"
     ]
    }
   ],
   "source": [
    "df = df[df[\"Employment\"] == \"Employed full-time\"]\n",
    "df = df.drop(\"Employment\", axis=1)\n",
    "df.info()"
   ]
  },
  {
   "cell_type": "code",
   "execution_count": 15,
   "metadata": {},
   "outputs": [
    {
     "data": {
      "text/plain": [
       "array(['Developer, back-end;Developer, desktop or enterprise applications;Developer, game or graphics',\n",
       "       'Database administrator;Developer, full-stack;Developer, mobile',\n",
       "       'Developer, back-end;Developer, desktop or enterprise applications;Developer, embedded applications or devices;Developer, front-end',\n",
       "       ...,\n",
       "       'Developer, back-end;Developer, front-end;Developer, full-stack;DevOps specialist;Engineer, data;Engineering manager',\n",
       "       'Database administrator;Developer, back-end;Developer, desktop or enterprise applications;Developer, front-end;Developer, full-stack;Engineer, data;Engineering manager;System administrator',\n",
       "       'Developer, full-stack;Developer, QA or test;System administrator'],\n",
       "      dtype=object)"
      ]
     },
     "execution_count": 15,
     "metadata": {},
     "output_type": "execute_result"
    }
   ],
   "source": [
    "df['DevType'].unique()\n"
   ]
  },
  {
   "cell_type": "markdown",
   "metadata": {},
   "source": [
    "<a id=\"DevType\"></a>\n",
    "**4.iii. Analyse \"DevType\" Column.**<br>\n",
    "Now, we check for **developement Type(s)** that appear in more values (convert column to shorten the categories and map the data for further.)\n",
    "*Click [here](#toc) to go back to **Table of Contents**.*"
   ]
  },
  {
   "cell_type": "code",
   "execution_count": 16,
   "metadata": {},
   "outputs": [
    {
     "data": {
      "text/plain": [
       "5172"
      ]
     },
     "execution_count": 16,
     "metadata": {},
     "output_type": "execute_result"
    }
   ],
   "source": [
    "len(df['DevType'].unique())\n"
   ]
  },
  {
   "cell_type": "code",
   "execution_count": 17,
   "metadata": {},
   "outputs": [],
   "source": [
    "df['DevType'] = df['DevType'].str.split(\";\")\n",
    "df['DevType'] = df['DevType'].str[0]"
   ]
  },
  {
   "cell_type": "code",
   "execution_count": 18,
   "metadata": {},
   "outputs": [
    {
     "data": {
      "text/plain": [
       "23"
      ]
     },
     "execution_count": 18,
     "metadata": {},
     "output_type": "execute_result"
    }
   ],
   "source": [
    "len(df['DevType'].unique())"
   ]
  },
  {
   "cell_type": "code",
   "execution_count": 19,
   "metadata": {},
   "outputs": [
    {
     "data": {
      "text/plain": [
       "Developer, back-end                              11763\n",
       "Developer, full-stack                             3849\n",
       "Database administrator                            2155\n",
       "Developer, front-end                              1997\n",
       "Data or business analyst                          1870\n",
       "Academic researcher                               1769\n",
       "Designer                                          1438\n",
       "Developer, desktop or enterprise applications     1324\n",
       "Data scientist or machine learning specialist     1142\n",
       "Developer, mobile                                  826\n",
       "Developer, embedded applications or devices        526\n",
       "DevOps specialist                                  255\n",
       "Developer, QA or test                              204\n",
       "Engineer, data                                     129\n",
       "Engineering manager                                114\n",
       "Developer, game or graphics                        104\n",
       "System administrator                                72\n",
       "Engineer, site reliability                          47\n",
       "Senior executive/VP                                 43\n",
       "Scientist                                           39\n",
       "Product manager                                     29\n",
       "Educator                                            20\n",
       "Marketing or sales professional                      7\n",
       "Name: DevType, dtype: int64"
      ]
     },
     "execution_count": 19,
     "metadata": {},
     "output_type": "execute_result"
    }
   ],
   "source": [
    "df['DevType'].value_counts()"
   ]
  },
  {
   "cell_type": "code",
   "execution_count": 20,
   "metadata": {},
   "outputs": [],
   "source": [
    "def shorten_categories(categories, cutoff):\n",
    "    categorical_map = {}\n",
    "    for i in range(len(categories)):\n",
    "        if categories.values[i] >= cutoff:\n",
    "            categorical_map[categories.index[i]] = categories.index[i]\n",
    "        else:\n",
    "            categorical_map[categories.index[i]] = 'Other'\n",
    "    return categorical_map"
   ]
  },
  {
   "cell_type": "code",
   "execution_count": 21,
   "metadata": {},
   "outputs": [
    {
     "data": {
      "text/plain": [
       "Developer, back-end                              11763\n",
       "Developer, full-stack                             3849\n",
       "Database administrator                            2155\n",
       "Developer, front-end                              1997\n",
       "Data or business analyst                          1870\n",
       "Academic researcher                               1769\n",
       "Designer                                          1438\n",
       "Developer, desktop or enterprise applications     1324\n",
       "Data scientist or machine learning specialist     1142\n",
       "Developer, mobile                                  826\n",
       "Developer, embedded applications or devices        526\n",
       "Other                                              257\n",
       "DevOps specialist                                  255\n",
       "Developer, QA or test                              204\n",
       "Engineer, data                                     129\n",
       "Engineering manager                                114\n",
       "Developer, game or graphics                        104\n",
       "Name: DevType, dtype: int64"
      ]
     },
     "execution_count": 21,
     "metadata": {},
     "output_type": "execute_result"
    }
   ],
   "source": [
    "dev_map = shorten_categories(df['DevType'].value_counts(), 100)\n",
    "df['DevType']  = df['DevType'].map(dev_map)\n",
    "df['DevType'].value_counts()"
   ]
  },
  {
   "cell_type": "markdown",
   "metadata": {},
   "source": [
    "<a id=\"Country\"></a>\n",
    "**4.iv. Analyse \"Country\" Column.**<br>\n",
    "Now, we check for **Countrie(s)** that appear in more values (convert column to shorten the categories and map the data for further.)\n",
    "\n",
    "\n",
    "*Click [here](#toc) to go back to **Table of Contents**.*"
   ]
  },
  {
   "cell_type": "code",
   "execution_count": 22,
   "metadata": {},
   "outputs": [
    {
     "data": {
      "text/plain": [
       "United States                       7468\n",
       "India                               2409\n",
       "United Kingdom                      2247\n",
       "Germany                             1891\n",
       "Canada                              1161\n",
       "Brazil                               985\n",
       "France                               966\n",
       "Spain                                666\n",
       "Australia                            650\n",
       "Netherlands                          648\n",
       "Poland                               564\n",
       "Italy                                556\n",
       "Russian Federation                   521\n",
       "Sweden                               508\n",
       "Turkey                               324\n",
       "Israel                               299\n",
       "Pakistan                             271\n",
       "Switzerland                          263\n",
       "Mexico                               255\n",
       "Norway                               251\n",
       "Ukraine                              248\n",
       "Ireland                              248\n",
       "Romania                              245\n",
       "South Africa                         244\n",
       "Czech Republic                       226\n",
       "Belgium                              217\n",
       "Iran                                 216\n",
       "Austria                              215\n",
       "Portugal                             213\n",
       "Denmark                              206\n",
       "                                    ... \n",
       "Mongolia                               4\n",
       "Maldives                               3\n",
       "Lao People's Democratic Republic       3\n",
       "Rwanda                                 3\n",
       "Haiti                                  3\n",
       "Guyana                                 3\n",
       "Zambia                                 3\n",
       "Togo                                   3\n",
       "Botswana                               3\n",
       "Democratic Republic of the Congo       2\n",
       "Mauritania                             2\n",
       "Angola                                 2\n",
       "Somalia                                2\n",
       "Côte d'Ivoire                          2\n",
       "Swaziland                              1\n",
       "San Marino                             1\n",
       "Fiji                                   1\n",
       "Barbados                               1\n",
       "Senegal                                1\n",
       "Bahamas                                1\n",
       "Turkmenistan                           1\n",
       "Yemen                                  1\n",
       "Niger                                  1\n",
       "Monaco                                 1\n",
       "Belize                                 1\n",
       "Saint Vincent and the Grenadines       1\n",
       "Guinea                                 1\n",
       "Benin                                  1\n",
       "Namibia                                1\n",
       "Andorra                                1\n",
       "Name: Country, Length: 154, dtype: int64"
      ]
     },
     "execution_count": 22,
     "metadata": {},
     "output_type": "execute_result"
    }
   ],
   "source": [
    "df['Country'].value_counts()"
   ]
  },
  {
   "cell_type": "code",
   "execution_count": 23,
   "metadata": {},
   "outputs": [
    {
     "data": {
      "text/plain": [
       "Other                 8482\n",
       "United States         7468\n",
       "India                 2409\n",
       "United Kingdom        2247\n",
       "Germany               1891\n",
       "Canada                1161\n",
       "Brazil                 985\n",
       "France                 966\n",
       "Spain                  666\n",
       "Australia              650\n",
       "Netherlands            648\n",
       "Poland                 564\n",
       "Italy                  556\n",
       "Russian Federation     521\n",
       "Sweden                 508\n",
       "Name: Country, dtype: int64"
      ]
     },
     "execution_count": 23,
     "metadata": {},
     "output_type": "execute_result"
    }
   ],
   "source": [
    "country_map = shorten_categories(df.Country.value_counts(), 400)\n",
    "df['Country'] = df['Country'].map(country_map)\n",
    "df.Country.value_counts()"
   ]
  },
  {
   "cell_type": "markdown",
   "metadata": {},
   "source": [
    "<a id=\"Observations\"></a>\n",
    "**5. Observations: **<br>\n",
    "1. we check for **Employment(s)** that appear in 3 values\n",
    "2. we check for **developement Type(s)** that appear in more values\n",
    "3. we check for **Dev Type(s)** that appear in more values\n",
    "4. we check for **Country(s)** that appear in more values\n",
    "\n",
    "**Actions:** \n",
    "1. We drop the Employment column\n",
    "2. We further convert columns to shorten the categories and map the data for further.\n",
    "\n",
    "*Click [here](#toc) to go back to **Table of Contents**.*"
   ]
  },
  {
   "cell_type": "markdown",
   "metadata": {},
   "source": [
    "<br>Plot a **box chart** showing the proportions of these two columns\n",
    "\n",
    "*Click [here](#toc) to go back to **Table of Contents**.*"
   ]
  },
  {
   "cell_type": "code",
   "execution_count": 24,
   "metadata": {},
   "outputs": [
    {
     "name": "stderr",
     "output_type": "stream",
     "text": [
      "C:\\Users\\gowtham.veepujerla\\AppData\\Local\\Continuum\\anaconda3\\lib\\site-packages\\numpy\\core\\_asarray.py:83: VisibleDeprecationWarning: Creating an ndarray from ragged nested sequences (which is a list-or-tuple of lists-or-tuples-or ndarrays with different lengths or shapes) is deprecated. If you meant to do this, you must specify 'dtype=object' when creating the ndarray\n",
      "  return array(a, dtype, copy=False, order=order)\n"
     ]
    },
    {
     "data": {
      "image/png": "[encoded data removed]",
      "text/plain": [
       "<Figure size 864x504 with 1 Axes>"
      ]
     },
     "metadata": {},
     "output_type": "display_data"
    }
   ],
   "source": [
    "fig, ax = plt.subplots(1,1, figsize=(12, 7))\n",
    "df.boxplot('Salary', 'Country', ax=ax)\n",
    "plt.suptitle('Salary (US$) v Country')\n",
    "plt.title('')\n",
    "plt.ylabel('Salary')\n",
    "plt.xticks(rotation=90)\n",
    "plt.show()"
   ]
  },
  {
   "cell_type": "code",
   "execution_count": 25,
   "metadata": {},
   "outputs": [],
   "source": [
    "df = df[df['Salary'] <= 250000]\n",
    "df = df[df['Salary'] >= 5000]\n",
    "df = df[df['Country'] != 'Other']\n",
    "df = df[df['DevType'] != 'Other']\n",
    "df = df[df['DevType'] != 'Other (please specify):']\n"
   ]
  },
  {
   "cell_type": "code",
   "execution_count": 26,
   "metadata": {},
   "outputs": [
    {
     "data": {
      "text/html": [
       "<div>\n",
       "<style scoped>\n",
       "    .dataframe tbody tr th:only-of-type {\n",
       "        vertical-align: middle;\n",
       "    }\n",
       "\n",
       "    .dataframe tbody tr th {\n",
       "        vertical-align: top;\n",
       "    }\n",
       "\n",
       "    .dataframe thead th {\n",
       "        text-align: right;\n",
       "    }\n",
       "</style>\n",
       "<table border=\"1\" class=\"dataframe\">\n",
       "  <thead>\n",
       "    <tr style=\"text-align: right;\">\n",
       "      <th></th>\n",
       "      <th>Country</th>\n",
       "      <th>DevType</th>\n",
       "      <th>EdLevel</th>\n",
       "      <th>YearsCodePro</th>\n",
       "      <th>Salary</th>\n",
       "    </tr>\n",
       "  </thead>\n",
       "  <tbody>\n",
       "    <tr>\n",
       "      <th>7</th>\n",
       "      <td>United States</td>\n",
       "      <td>Developer, back-end</td>\n",
       "      <td>Bachelor’s degree (B.A., B.S., B.Eng., etc.)</td>\n",
       "      <td>13</td>\n",
       "      <td>116000.0</td>\n",
       "    </tr>\n",
       "    <tr>\n",
       "      <th>9</th>\n",
       "      <td>United Kingdom</td>\n",
       "      <td>Database administrator</td>\n",
       "      <td>Master’s degree (M.A., M.S., M.Eng., MBA, etc.)</td>\n",
       "      <td>4</td>\n",
       "      <td>32315.0</td>\n",
       "    </tr>\n",
       "    <tr>\n",
       "      <th>10</th>\n",
       "      <td>United Kingdom</td>\n",
       "      <td>Developer, back-end</td>\n",
       "      <td>Bachelor’s degree (B.A., B.S., B.Eng., etc.)</td>\n",
       "      <td>2</td>\n",
       "      <td>40070.0</td>\n",
       "    </tr>\n",
       "    <tr>\n",
       "      <th>11</th>\n",
       "      <td>Spain</td>\n",
       "      <td>Designer</td>\n",
       "      <td>Some college/university study without earning ...</td>\n",
       "      <td>7</td>\n",
       "      <td>14268.0</td>\n",
       "    </tr>\n",
       "    <tr>\n",
       "      <th>12</th>\n",
       "      <td>Netherlands</td>\n",
       "      <td>Designer</td>\n",
       "      <td>Secondary school (e.g. American high school, G...</td>\n",
       "      <td>20</td>\n",
       "      <td>38916.0</td>\n",
       "    </tr>\n",
       "  </tbody>\n",
       "</table>\n",
       "</div>"
      ],
      "text/plain": [
       "           Country                 DevType  \\\n",
       "7    United States     Developer, back-end   \n",
       "9   United Kingdom  Database administrator   \n",
       "10  United Kingdom     Developer, back-end   \n",
       "11           Spain                Designer   \n",
       "12     Netherlands                Designer   \n",
       "\n",
       "                                              EdLevel YearsCodePro    Salary  \n",
       "7        Bachelor’s degree (B.A., B.S., B.Eng., etc.)           13  116000.0  \n",
       "9     Master’s degree (M.A., M.S., M.Eng., MBA, etc.)            4   32315.0  \n",
       "10       Bachelor’s degree (B.A., B.S., B.Eng., etc.)            2   40070.0  \n",
       "11  Some college/university study without earning ...            7   14268.0  \n",
       "12  Secondary school (e.g. American high school, G...           20   38916.0  "
      ]
     },
     "execution_count": 26,
     "metadata": {},
     "output_type": "execute_result"
    }
   ],
   "source": [
    "df.head()"
   ]
  },
  {
   "cell_type": "code",
   "execution_count": 27,
   "metadata": {},
   "outputs": [
    {
     "name": "stderr",
     "output_type": "stream",
     "text": [
      "C:\\Users\\gowtham.veepujerla\\AppData\\Local\\Continuum\\anaconda3\\lib\\site-packages\\numpy\\core\\_asarray.py:83: VisibleDeprecationWarning: Creating an ndarray from ragged nested sequences (which is a list-or-tuple of lists-or-tuples-or ndarrays with different lengths or shapes) is deprecated. If you meant to do this, you must specify 'dtype=object' when creating the ndarray\n",
      "  return array(a, dtype, copy=False, order=order)\n"
     ]
    },
    {
     "data": {
      "image/png": "[encoded data removed]",
      "text/plain": [
       "<Figure size 864x504 with 1 Axes>"
      ]
     },
     "metadata": {},
     "output_type": "display_data"
    }
   ],
   "source": [
    "fig, ax = plt.subplots(1,1, figsize=(12, 7))\n",
    "df.boxplot('Salary', 'Country', ax=ax)\n",
    "plt.suptitle('Salary (US$) v Country')\n",
    "plt.title('')\n",
    "plt.ylabel('Salary')\n",
    "plt.xticks(rotation=90)\n",
    "plt.show()"
   ]
  },
  {
   "cell_type": "markdown",
   "metadata": {},
   "source": [
    "<a id = \"data_preprocessing\"></a>\n",
    "#### **6. DATA PREPROCESSING**"
   ]
  },
  {
   "cell_type": "markdown",
   "metadata": {},
   "source": [
    "<a id = \"data_transformation\"></a>\n",
    "**7. Data Transformation**.<br>\n",
    "\n",
    "*Click [here](#toc) to go back to **Table of Contents**.*"
   ]
  },
  {
   "cell_type": "code",
   "execution_count": 28,
   "metadata": {},
   "outputs": [
    {
     "data": {
      "text/plain": [
       "array(['13', '4', '2', '7', '20', '1', '3', '10', '12', '29', '6', '28',\n",
       "       '8', '23', '15', '25', '9', '11', 'Less than 1 year', '5', '21',\n",
       "       '16', '18', '14', '32', '19', '22', '38', '30', '26', '27', '17',\n",
       "       '24', '34', '35', '33', '36', '40', '39', 'More than 50 years',\n",
       "       '31', '37', '41', '45', '42', '44', '43', '50', '49'], dtype=object)"
      ]
     },
     "execution_count": 28,
     "metadata": {},
     "output_type": "execute_result"
    }
   ],
   "source": [
    "df[\"YearsCodePro\"].unique()"
   ]
  },
  {
   "cell_type": "code",
   "execution_count": 29,
   "metadata": {},
   "outputs": [],
   "source": [
    "def clean_experience(x):\n",
    "    if x ==  'More than 50 years':\n",
    "        return 50\n",
    "    if x == 'Less than 1 year':\n",
    "        return 0.5\n",
    "    return float(x)\n",
    "\n",
    "df['YearsCodePro'] = df['YearsCodePro'].apply(clean_experience)"
   ]
  },
  {
   "cell_type": "code",
   "execution_count": 30,
   "metadata": {},
   "outputs": [
    {
     "data": {
      "text/plain": [
       "array(['Bachelor’s degree (B.A., B.S., B.Eng., etc.)',\n",
       "       'Master’s degree (M.A., M.S., M.Eng., MBA, etc.)',\n",
       "       'Some college/university study without earning a degree',\n",
       "       'Secondary school (e.g. American high school, German Realschule or Gymnasium, etc.)',\n",
       "       'Associate degree (A.A., A.S., etc.)',\n",
       "       'Professional degree (JD, MD, etc.)',\n",
       "       'Other doctoral degree (Ph.D., Ed.D., etc.)',\n",
       "       'I never completed any formal education',\n",
       "       'Primary/elementary school'], dtype=object)"
      ]
     },
     "execution_count": 30,
     "metadata": {},
     "output_type": "execute_result"
    }
   ],
   "source": [
    "df[\"EdLevel\"].unique()"
   ]
  },
  {
   "cell_type": "code",
   "execution_count": 31,
   "metadata": {},
   "outputs": [],
   "source": [
    "def clean_education(x):\n",
    "    if 'Bachelor’s degree' in x:\n",
    "        return 'Bachelor’s degree'\n",
    "    if 'Master’s degree' in x:\n",
    "        return 'Master’s degree'\n",
    "    if 'Professional degree' in x or 'Other doctoral' in x:\n",
    "        return 'Post grad'\n",
    "    return 'Less than a Bachelors'\n",
    "\n",
    "df['EdLevel'] = df['EdLevel'].apply(clean_education)"
   ]
  },
  {
   "cell_type": "code",
   "execution_count": 32,
   "metadata": {},
   "outputs": [
    {
     "data": {
      "text/plain": [
       "array(['Bachelor’s degree', 'Master’s degree', 'Less than a Bachelors',\n",
       "       'Post grad'], dtype=object)"
      ]
     },
     "execution_count": 32,
     "metadata": {},
     "output_type": "execute_result"
    }
   ],
   "source": [
    "df[\"EdLevel\"].unique()"
   ]
  },
  {
   "cell_type": "code",
   "execution_count": 33,
   "metadata": {},
   "outputs": [
    {
     "data": {
      "text/plain": [
       "Country         0\n",
       "DevType         0\n",
       "EdLevel         0\n",
       "YearsCodePro    0\n",
       "Salary          0\n",
       "dtype: int64"
      ]
     },
     "execution_count": 33,
     "metadata": {},
     "output_type": "execute_result"
    }
   ],
   "source": [
    "df.isnull().sum()"
   ]
  },
  {
   "cell_type": "code",
   "execution_count": 34,
   "metadata": {},
   "outputs": [],
   "source": [
    "e={'Bachelor’s degree':1, 'Master’s degree':2, 'Less than a Bachelors':0,\n",
    "       'Post grad':3}\n",
    "df['EdLevel'] = df['EdLevel'].map(e)"
   ]
  },
  {
   "cell_type": "code",
   "execution_count": 35,
   "metadata": {},
   "outputs": [],
   "source": [
    "c={'Other': 0,  \n",
    "    'United States': 2,\n",
    "    'India': 1,\n",
    "    'United Kingdom': 3,\n",
    "    'Germany': 4,\n",
    "    'Canada': 5,\n",
    "    'Brazil': 6,\n",
    "    'France': 7,\n",
    "    'Spain': 8,\n",
    "    'Australia': 9,\n",
    "    'Netherlands': 10,\n",
    "    'Poland': 11,\n",
    "    'Italy': 12,\n",
    "    'Russian Federation': 13,\n",
    "    'Sweden': 14 }\n",
    "df['Country'] =df['Country'].map(c)"
   ]
  },
  {
   "cell_type": "code",
   "execution_count": 36,
   "metadata": {},
   "outputs": [],
   "source": [
    "d = {'Developer, back-end': 0,\n",
    "     'Developer, full-stack': 1,\n",
    "     'Database administrator': 2,\n",
    "     'Developer, front-end': 3,\n",
    "     'Data or business analyst': 4,\n",
    "     'Academic researcher': 5,\n",
    "     'Designer': 6,\n",
    "     'Developer, desktop or enterprise applications': 7,\n",
    "     'Data scientist or machine learning specialist': 8,\n",
    "     'Developer, mobile': 9,\n",
    "     'Developer, embedded applications or devices': 10,\n",
    "     'Other': 11,\n",
    "     'DevOps specialist': 12,\n",
    "     'Developer, QA or test': 13,\n",
    "     'Engineer, data': 14,\n",
    "     'Engineering manager': 15,\n",
    "     'Developer, game or graphics': 16}\n",
    "\n",
    "df['DevType'] = df['DevType'].map(d)\n"
   ]
  },
  {
   "cell_type": "code",
   "execution_count": 37,
   "metadata": {},
   "outputs": [
    {
     "data": {
      "text/plain": [
       "Country         0\n",
       "DevType         0\n",
       "EdLevel         0\n",
       "YearsCodePro    0\n",
       "Salary          0\n",
       "dtype: int64"
      ]
     },
     "execution_count": 37,
     "metadata": {},
     "output_type": "execute_result"
    }
   ],
   "source": [
    "df.isnull().sum()"
   ]
  },
  {
   "cell_type": "markdown",
   "metadata": {},
   "source": [
    "<a id = \"split_dataset\"></a>\n",
    "<br>**7.a. Split the dataset**<br>\n",
    "    &emsp;i. Split the Dataset into **target vector** and **feature matrix**.<br>\n",
    "    &emsp;ii. Split the target vector and feature matrix into corresponding **training** and **test** datasets for training and testing (final validation) models.<br>\n",
    "<br>**7.a.i.** Split the Dataset into target vector and feature matrix.\n",
    "\n",
    "*Click [here](#toc) to go back to **Table of Contents**.*"
   ]
  },
  {
   "cell_type": "code",
   "execution_count": 38,
   "metadata": {},
   "outputs": [],
   "source": [
    "X = df.drop(\"Salary\", axis=1)\n",
    "y = df[\"Salary\"]"
   ]
  },
  {
   "cell_type": "code",
   "execution_count": 39,
   "metadata": {},
   "outputs": [
    {
     "data": {
      "text/plain": [
       "<matplotlib.axes._subplots.AxesSubplot at 0x1de17a42f28>"
      ]
     },
     "execution_count": 39,
     "metadata": {},
     "output_type": "execute_result"
    },
    {
     "data": {
      "image/png": "[encoded data removed]",
      "text/plain": [
       "<Figure size 864x720 with 2 Axes>"
      ]
     },
     "metadata": {},
     "output_type": "display_data"
    }
   ],
   "source": [
    "## Check for multicollinearity\n",
    "import seaborn as sns\n",
    "\n",
    "plt.figure(figsize=(12,10))\n",
    "corr=df.corr()\n",
    "sns.heatmap(corr,annot=True)"
   ]
  },
  {
   "cell_type": "markdown",
   "metadata": {},
   "source": [
    "<br>**7.a.ii.** Split the target vector and feature matrix into corresponding **training** and **test** datasets for training and testing (final validation) models.\n",
    "\n",
    "*Click [here](#toc) to go back to **Table of Contents**.*"
   ]
  },
  {
   "cell_type": "code",
   "execution_count": 40,
   "metadata": {},
   "outputs": [
    {
     "name": "stdout",
     "output_type": "stream",
     "text": [
      "Shape of X_train :(15237, 4)\n",
      "Shape of X_test: (3810, 4) \n",
      "Shape of y_train: (15237,)\n",
      "Shape of y_test: (3810,)\n"
     ]
    }
   ],
   "source": [
    "##Train Test Split\n",
    "from sklearn.model_selection import train_test_split\n",
    "X_train,X_test,y_train,y_test = train_test_split(X,y,test_size= 0.2,random_state = 42)\n",
    "\n",
    "# print the shape of the training and testing datasets\n",
    "print(f\"Shape of X_train :{X_train.shape}\\nShape of X_test: {X_test.shape}\",\n",
    "      f\"\\nShape of y_train: {y_train.shape}\\nShape of y_test: {y_test.shape}\")"
   ]
  },
  {
   "cell_type": "code",
   "execution_count": 41,
   "metadata": {},
   "outputs": [],
   "source": [
    "## Standardize the dataset\n",
    "from sklearn.preprocessing import StandardScaler\n",
    "scaler=StandardScaler()"
   ]
  },
  {
   "cell_type": "code",
   "execution_count": 42,
   "metadata": {},
   "outputs": [],
   "source": [
    "X_train_scaled=scaler.fit_transform(X_train)"
   ]
  },
  {
   "cell_type": "code",
   "execution_count": 43,
   "metadata": {},
   "outputs": [],
   "source": [
    "X_test_scaled=scaler.transform(X_test)"
   ]
  },
  {
   "cell_type": "code",
   "execution_count": 44,
   "metadata": {},
   "outputs": [],
   "source": [
    "import pickle\n",
    "pickle.dump(scaler,open('scaling.pkl','wb'))"
   ]
  },
  {
   "cell_type": "code",
   "execution_count": 45,
   "metadata": {},
   "outputs": [
    {
     "data": {
      "text/plain": [
       "array([[-0.7180188 , -0.51026172, -0.21064541, -0.88242237],\n",
       "       [-0.44182147, -0.51026172, -0.21064541,  0.30086836],\n",
       "       [-0.7180188 , -0.51026172, -0.21064541, -1.07963749],\n",
       "       ...,\n",
       "       [-0.16562414, -0.80479739, -1.48278339, -0.75094562],\n",
       "       [-0.44182147,  0.37334526, -0.21064541, -0.88242237],\n",
       "       [ 2.32015182,  1.25695225, -0.21064541, -1.01389912]])"
      ]
     },
     "execution_count": 45,
     "metadata": {},
     "output_type": "execute_result"
    }
   ],
   "source": [
    "X_train_scaled"
   ]
  },
  {
   "cell_type": "code",
   "execution_count": 46,
   "metadata": {},
   "outputs": [
    {
     "data": {
      "text/plain": [
       "array([[ 1.49155984, -0.80479739, -0.21064541,  0.56382186],\n",
       "       [-0.44182147, -0.21572606, -1.48278339,  0.16939162],\n",
       "       [ 2.32015182,  1.55148791,  1.06149257,  0.03791487],\n",
       "       ...,\n",
       "       [-0.7180188 ,  1.55148791,  1.06149257,  3.06188007],\n",
       "       [-0.44182147, -0.80479739, -0.21064541, -0.48799212],\n",
       "       [-0.7180188 ,  0.0788096 ,  1.06149257, -0.75094562]])"
      ]
     },
     "execution_count": 46,
     "metadata": {},
     "output_type": "execute_result"
    }
   ],
   "source": [
    "X_test_scaled"
   ]
  },
  {
   "cell_type": "markdown",
   "metadata": {},
   "source": [
    "## Box Plots To understand Effect Of Standard Scaler"
   ]
  },
  {
   "cell_type": "code",
   "execution_count": 47,
   "metadata": {},
   "outputs": [
    {
     "data": {
      "text/plain": [
       "Text(0.5,1,'X_train After Scaling')"
      ]
     },
     "execution_count": 47,
     "metadata": {},
     "output_type": "execute_result"
    },
    {
     "data": {
      "image/png": "[encoded data removed]",
      "text/plain": [
       "<Figure size 1080x360 with 2 Axes>"
      ]
     },
     "metadata": {},
     "output_type": "display_data"
    }
   ],
   "source": [
    "plt.subplots(figsize=(15, 5))\n",
    "plt.subplot(1, 2, 1)\n",
    "sns.boxplot(data=X_train)\n",
    "plt.title('X_train Before Scaling')\n",
    "plt.subplot(1, 2, 2)\n",
    "sns.boxplot(data=X_train_scaled)\n",
    "plt.title('X_train After Scaling')"
   ]
  },
  {
   "cell_type": "markdown",
   "metadata": {},
   "source": [
    "<a id=\"models\"></a>\n",
    "### **8. Building Prediction Models**\n",
    "We shall make classification prediction using three models based on:\n",
    "<br>&emsp;a. **Linear Regression **\n",
    "<br>&emsp;b. **DecisionTreeRegressior **\n",
    "<br>&emsp;c. **Random Forest classifier ** \n",
    "\n",
    "*Click [here](#toc) to go back to **Table of Contents**.*"
   ]
  },
  {
   "cell_type": "markdown",
   "metadata": {},
   "source": [
    "<a id=\"LinearRegression\"></a>\n",
    "### ** 8.a. Linear Regression **\n",
    "\n",
    "*Click [here](#toc) to go back to **Table of Contents**.*"
   ]
  },
  {
   "cell_type": "code",
   "execution_count": 48,
   "metadata": {},
   "outputs": [
    {
     "data": {
      "text/plain": [
       "LinearRegression()"
      ]
     },
     "execution_count": 48,
     "metadata": {},
     "output_type": "execute_result"
    }
   ],
   "source": [
    "from sklearn.linear_model import LinearRegression\n",
    "linear_reg = LinearRegression()\n",
    "linear_reg.fit(X_train_scaled,y_train)"
   ]
  },
  {
   "cell_type": "code",
   "execution_count": 49,
   "metadata": {},
   "outputs": [
    {
     "name": "stdout",
     "output_type": "stream",
     "text": [
      "[-16439.84161374   -179.88268562   1804.74865913  18538.12776211]\n",
      "73154.83034718121\n"
     ]
    }
   ],
   "source": [
    "## print the coefficients and the intercept\n",
    "print(linear_reg.coef_)\n",
    "print(linear_reg.intercept_)"
   ]
  },
  {
   "cell_type": "code",
   "execution_count": 50,
   "metadata": {},
   "outputs": [
    {
     "data": {
      "text/plain": [
       "{'copy_X': True,\n",
       " 'fit_intercept': True,\n",
       " 'n_jobs': None,\n",
       " 'normalize': False,\n",
       " 'positive': False}"
      ]
     },
     "execution_count": 50,
     "metadata": {},
     "output_type": "execute_result"
    }
   ],
   "source": [
    "## on which parameters the model has been trained\n",
    "linear_reg.get_params()"
   ]
  },
  {
   "cell_type": "markdown",
   "metadata": {},
   "source": [
    "## Evaluation metrics for Regression analysis"
   ]
  },
  {
   "cell_type": "code",
   "execution_count": 51,
   "metadata": {},
   "outputs": [],
   "source": [
    "y_pred = linear_reg.predict(X_test_scaled)"
   ]
  },
  {
   "cell_type": "code",
   "execution_count": 52,
   "metadata": {},
   "outputs": [
    {
     "name": "stdout",
     "output_type": "stream",
     "text": [
      "Mean Absolute Error (MAE): 31993.894\n",
      "Mean Squared Error (MSE): 1827514338.411\n",
      "Root Mean Squared Error (RMSE): 42749.437\n",
      "R2_score: 0.225355\n",
      "Root Mean Squared Log Error (RMSLE): 10.663\n"
     ]
    }
   ],
   "source": [
    "from sklearn import metrics\n",
    " \n",
    "print('Mean Absolute Error (MAE):', round(metrics.mean_absolute_error(y_test, y_pred),3))  \n",
    "\n",
    "print('Mean Squared Error (MSE):', round(metrics.mean_squared_error(y_test, y_pred),3))  \n",
    "\n",
    "print('Root Mean Squared Error (RMSE):', round(np.sqrt(metrics.mean_squared_error(y_test, y_pred)),3))\n",
    "\n",
    "print('R2_score:', round(metrics.r2_score(y_test, y_pred),6))\n",
    "\n",
    "print('Root Mean Squared Log Error (RMSLE):', round(np.log(np.sqrt(metrics.mean_squared_error(y_test, y_pred))),3))\n"
   ]
  },
  {
   "cell_type": "code",
   "execution_count": 53,
   "metadata": {},
   "outputs": [],
   "source": [
    "from sklearn.metrics import mean_squared_error, mean_absolute_error\n",
    "import numpy as np\n",
    "error = np.sqrt(mean_squared_error(y_test, y_pred))"
   ]
  },
  {
   "cell_type": "code",
   "execution_count": 54,
   "metadata": {},
   "outputs": [
    {
     "data": {
      "text/plain": [
       "42749.43670285086"
      ]
     },
     "execution_count": 54,
     "metadata": {},
     "output_type": "execute_result"
    }
   ],
   "source": [
    "error"
   ]
  },
  {
   "cell_type": "markdown",
   "metadata": {},
   "source": [
    "<a id = \"DecisionTreeRegressor\"></a>\n",
    "##### **8.b. Decision Tree Regressor**\n",
    "\n",
    "*Click [here](#toc) to go back to **Table of Contents**.*"
   ]
  },
  {
   "cell_type": "code",
   "execution_count": 55,
   "metadata": {},
   "outputs": [
    {
     "data": {
      "text/plain": [
       "DecisionTreeRegressor(random_state=1)"
      ]
     },
     "execution_count": 55,
     "metadata": {},
     "output_type": "execute_result"
    }
   ],
   "source": [
    "from sklearn.tree import DecisionTreeRegressor\n",
    "dec_tree_reg = DecisionTreeRegressor(random_state=1)\n",
    "dec_tree_reg.fit(X_train_scaled,y_train)"
   ]
  },
  {
   "cell_type": "code",
   "execution_count": 56,
   "metadata": {},
   "outputs": [],
   "source": [
    "y_pred = dec_tree_reg.predict(X_test_scaled)"
   ]
  },
  {
   "cell_type": "code",
   "execution_count": 57,
   "metadata": {},
   "outputs": [
    {
     "name": "stdout",
     "output_type": "stream",
     "text": [
      "Mean Absolute Error (MAE): 23495.165\n",
      "Mean Squared Error (MSE): 1213223232.187\n",
      "Root Mean Squared Error (RMSE): 34831.354\n",
      "R2_score: 0.48574\n",
      "Root Mean Squared Log Error (RMSLE): 10.458\n"
     ]
    }
   ],
   "source": [
    "from sklearn import metrics\n",
    " \n",
    "print('Mean Absolute Error (MAE):', round(metrics.mean_absolute_error(y_test, y_pred),3))  \n",
    "\n",
    "print('Mean Squared Error (MSE):', round(metrics.mean_squared_error(y_test, y_pred),3))  \n",
    "\n",
    "print('Root Mean Squared Error (RMSE):', round(np.sqrt(metrics.mean_squared_error(y_test, y_pred)),3))\n",
    "\n",
    "print('R2_score:', round(metrics.r2_score(y_test, y_pred),6))\n",
    "\n",
    "print('Root Mean Squared Log Error (RMSLE):', round(np.log(np.sqrt(metrics.mean_squared_error(y_test, y_pred))),3))\n"
   ]
  },
  {
   "cell_type": "code",
   "execution_count": 58,
   "metadata": {},
   "outputs": [
    {
     "name": "stdout",
     "output_type": "stream",
     "text": [
      "$34,831.35\n"
     ]
    }
   ],
   "source": [
    "error = np.sqrt(mean_squared_error(y_test, y_pred))\n",
    "print(\"${:,.02f}\".format(error))"
   ]
  },
  {
   "cell_type": "markdown",
   "metadata": {},
   "source": [
    "<a id = \"RandomForestRegressor\"></a>\n",
    "##### **8.c. Random Forest Classifier**\n",
    "\n",
    "*Click [here](#toc) to go back to **Table of Contents**.*"
   ]
  },
  {
   "cell_type": "code",
   "execution_count": 59,
   "metadata": {},
   "outputs": [
    {
     "data": {
      "text/plain": [
       "RandomForestRegressor(random_state=1)"
      ]
     },
     "execution_count": 59,
     "metadata": {},
     "output_type": "execute_result"
    }
   ],
   "source": [
    "from sklearn.ensemble import RandomForestRegressor\n",
    "random_forest_reg = RandomForestRegressor(random_state=1)\n",
    "random_forest_reg.fit(X_train_scaled,y_train)"
   ]
  },
  {
   "cell_type": "code",
   "execution_count": 60,
   "metadata": {},
   "outputs": [],
   "source": [
    "y_pred = random_forest_reg.predict(X_test_scaled)"
   ]
  },
  {
   "cell_type": "code",
   "execution_count": 61,
   "metadata": {},
   "outputs": [
    {
     "name": "stdout",
     "output_type": "stream",
     "text": [
      "Mean Absolute Error (MAE): 21946.082\n",
      "Mean Squared Error (MSE): 1042956553.096\n",
      "Root Mean Squared Error (RMSE): 32294.838\n",
      "R2_score: 0.557912\n",
      "Root Mean Squared Log Error (RMSLE): 10.383\n"
     ]
    }
   ],
   "source": [
    "from sklearn import metrics\n",
    " \n",
    "print('Mean Absolute Error (MAE):', round(metrics.mean_absolute_error(y_test, y_pred),3))  \n",
    "\n",
    "print('Mean Squared Error (MSE):', round(metrics.mean_squared_error(y_test, y_pred),3))  \n",
    "\n",
    "print('Root Mean Squared Error (RMSE):', round(np.sqrt(metrics.mean_squared_error(y_test, y_pred)),3))\n",
    "\n",
    "print('R2_score:', round(metrics.r2_score(y_test, y_pred),6))\n",
    "\n",
    "print('Root Mean Squared Log Error (RMSLE):', round(np.log(np.sqrt(metrics.mean_squared_error(y_test, y_pred))),3))\n"
   ]
  },
  {
   "cell_type": "code",
   "execution_count": 62,
   "metadata": {},
   "outputs": [
    {
     "name": "stdout",
     "output_type": "stream",
     "text": [
      "$32,294.84\n"
     ]
    }
   ],
   "source": [
    "error = np.sqrt(mean_squared_error(y_test, y_pred))\n",
    "print(\"${:,.02f}\".format(error))"
   ]
  },
  {
   "cell_type": "markdown",
   "metadata": {},
   "source": [
    "<a id = \"dt_estimator\"></a>\n",
    "**8.c.i. Instance; Hyperparameter Tuning; Model Fitting** \n",
    "\n",
    "*Click [here](#toc) to go back to **Table of Contents**.*"
   ]
  },
  {
   "cell_type": "code",
   "execution_count": 63,
   "metadata": {},
   "outputs": [
    {
     "data": {
      "text/plain": [
       "GridSearchCV(estimator=DecisionTreeRegressor(random_state=0),\n",
       "             param_grid={'max_depth': [None, 2, 4, 6, 8, 10, 12]},\n",
       "             scoring='neg_mean_squared_error')"
      ]
     },
     "execution_count": 63,
     "metadata": {},
     "output_type": "execute_result"
    }
   ],
   "source": [
    "from sklearn.model_selection import GridSearchCV\n",
    "\n",
    "max_depth = [None, 2,4,6,8,10,12]\n",
    "parameters = {\"max_depth\": max_depth}\n",
    "\n",
    "regressor = DecisionTreeRegressor(random_state=0)\n",
    "gs = GridSearchCV(regressor, parameters, scoring='neg_mean_squared_error')\n",
    "gs.fit(X_train_scaled,y_train)"
   ]
  },
  {
   "cell_type": "code",
   "execution_count": 64,
   "metadata": {},
   "outputs": [
    {
     "name": "stdout",
     "output_type": "stream",
     "text": [
      "$30,401.18\n"
     ]
    }
   ],
   "source": [
    "regressor = gs.best_estimator_\n",
    "\n",
    "regressor.fit(X_train_scaled,y_train)\n",
    "y_pred = regressor.predict(X_test_scaled)\n",
    "error = np.sqrt(mean_squared_error(y_test, y_pred))\n",
    "print(\"${:,.02f}\".format(error))"
   ]
  },
  {
   "cell_type": "code",
   "execution_count": 65,
   "metadata": {
    "scrolled": true
   },
   "outputs": [
    {
     "data": {
      "text/html": [
       "<div>\n",
       "<style scoped>\n",
       "    .dataframe tbody tr th:only-of-type {\n",
       "        vertical-align: middle;\n",
       "    }\n",
       "\n",
       "    .dataframe tbody tr th {\n",
       "        vertical-align: top;\n",
       "    }\n",
       "\n",
       "    .dataframe thead th {\n",
       "        text-align: right;\n",
       "    }\n",
       "</style>\n",
       "<table border=\"1\" class=\"dataframe\">\n",
       "  <thead>\n",
       "    <tr style=\"text-align: right;\">\n",
       "      <th></th>\n",
       "      <th>Country</th>\n",
       "      <th>DevType</th>\n",
       "      <th>EdLevel</th>\n",
       "      <th>YearsCodePro</th>\n",
       "    </tr>\n",
       "  </thead>\n",
       "  <tbody>\n",
       "    <tr>\n",
       "      <th>7</th>\n",
       "      <td>2</td>\n",
       "      <td>0</td>\n",
       "      <td>1</td>\n",
       "      <td>13.0</td>\n",
       "    </tr>\n",
       "    <tr>\n",
       "      <th>9</th>\n",
       "      <td>3</td>\n",
       "      <td>2</td>\n",
       "      <td>2</td>\n",
       "      <td>4.0</td>\n",
       "    </tr>\n",
       "    <tr>\n",
       "      <th>10</th>\n",
       "      <td>3</td>\n",
       "      <td>0</td>\n",
       "      <td>1</td>\n",
       "      <td>2.0</td>\n",
       "    </tr>\n",
       "    <tr>\n",
       "      <th>11</th>\n",
       "      <td>8</td>\n",
       "      <td>6</td>\n",
       "      <td>0</td>\n",
       "      <td>7.0</td>\n",
       "    </tr>\n",
       "    <tr>\n",
       "      <th>12</th>\n",
       "      <td>10</td>\n",
       "      <td>6</td>\n",
       "      <td>0</td>\n",
       "      <td>20.0</td>\n",
       "    </tr>\n",
       "    <tr>\n",
       "      <th>13</th>\n",
       "      <td>2</td>\n",
       "      <td>7</td>\n",
       "      <td>0</td>\n",
       "      <td>1.0</td>\n",
       "    </tr>\n",
       "    <tr>\n",
       "      <th>16</th>\n",
       "      <td>2</td>\n",
       "      <td>1</td>\n",
       "      <td>1</td>\n",
       "      <td>3.0</td>\n",
       "    </tr>\n",
       "    <tr>\n",
       "      <th>18</th>\n",
       "      <td>2</td>\n",
       "      <td>1</td>\n",
       "      <td>1</td>\n",
       "      <td>3.0</td>\n",
       "    </tr>\n",
       "    <tr>\n",
       "      <th>23</th>\n",
       "      <td>4</td>\n",
       "      <td>0</td>\n",
       "      <td>3</td>\n",
       "      <td>20.0</td>\n",
       "    </tr>\n",
       "    <tr>\n",
       "      <th>25</th>\n",
       "      <td>5</td>\n",
       "      <td>1</td>\n",
       "      <td>1</td>\n",
       "      <td>10.0</td>\n",
       "    </tr>\n",
       "    <tr>\n",
       "      <th>29</th>\n",
       "      <td>3</td>\n",
       "      <td>4</td>\n",
       "      <td>1</td>\n",
       "      <td>2.0</td>\n",
       "    </tr>\n",
       "    <tr>\n",
       "      <th>31</th>\n",
       "      <td>5</td>\n",
       "      <td>0</td>\n",
       "      <td>1</td>\n",
       "      <td>10.0</td>\n",
       "    </tr>\n",
       "    <tr>\n",
       "      <th>35</th>\n",
       "      <td>3</td>\n",
       "      <td>4</td>\n",
       "      <td>0</td>\n",
       "      <td>3.0</td>\n",
       "    </tr>\n",
       "    <tr>\n",
       "      <th>37</th>\n",
       "      <td>12</td>\n",
       "      <td>1</td>\n",
       "      <td>1</td>\n",
       "      <td>12.0</td>\n",
       "    </tr>\n",
       "    <tr>\n",
       "      <th>40</th>\n",
       "      <td>2</td>\n",
       "      <td>0</td>\n",
       "      <td>2</td>\n",
       "      <td>20.0</td>\n",
       "    </tr>\n",
       "    <tr>\n",
       "      <th>41</th>\n",
       "      <td>2</td>\n",
       "      <td>0</td>\n",
       "      <td>1</td>\n",
       "      <td>10.0</td>\n",
       "    </tr>\n",
       "    <tr>\n",
       "      <th>42</th>\n",
       "      <td>2</td>\n",
       "      <td>0</td>\n",
       "      <td>2</td>\n",
       "      <td>29.0</td>\n",
       "    </tr>\n",
       "    <tr>\n",
       "      <th>43</th>\n",
       "      <td>6</td>\n",
       "      <td>4</td>\n",
       "      <td>2</td>\n",
       "      <td>6.0</td>\n",
       "    </tr>\n",
       "    <tr>\n",
       "      <th>44</th>\n",
       "      <td>7</td>\n",
       "      <td>1</td>\n",
       "      <td>2</td>\n",
       "      <td>2.0</td>\n",
       "    </tr>\n",
       "    <tr>\n",
       "      <th>45</th>\n",
       "      <td>7</td>\n",
       "      <td>0</td>\n",
       "      <td>2</td>\n",
       "      <td>4.0</td>\n",
       "    </tr>\n",
       "    <tr>\n",
       "      <th>46</th>\n",
       "      <td>3</td>\n",
       "      <td>8</td>\n",
       "      <td>3</td>\n",
       "      <td>28.0</td>\n",
       "    </tr>\n",
       "    <tr>\n",
       "      <th>47</th>\n",
       "      <td>2</td>\n",
       "      <td>0</td>\n",
       "      <td>1</td>\n",
       "      <td>8.0</td>\n",
       "    </tr>\n",
       "    <tr>\n",
       "      <th>48</th>\n",
       "      <td>2</td>\n",
       "      <td>0</td>\n",
       "      <td>1</td>\n",
       "      <td>4.0</td>\n",
       "    </tr>\n",
       "    <tr>\n",
       "      <th>50</th>\n",
       "      <td>5</td>\n",
       "      <td>0</td>\n",
       "      <td>0</td>\n",
       "      <td>7.0</td>\n",
       "    </tr>\n",
       "    <tr>\n",
       "      <th>51</th>\n",
       "      <td>3</td>\n",
       "      <td>9</td>\n",
       "      <td>1</td>\n",
       "      <td>6.0</td>\n",
       "    </tr>\n",
       "    <tr>\n",
       "      <th>53</th>\n",
       "      <td>2</td>\n",
       "      <td>1</td>\n",
       "      <td>1</td>\n",
       "      <td>23.0</td>\n",
       "    </tr>\n",
       "    <tr>\n",
       "      <th>58</th>\n",
       "      <td>6</td>\n",
       "      <td>4</td>\n",
       "      <td>1</td>\n",
       "      <td>15.0</td>\n",
       "    </tr>\n",
       "    <tr>\n",
       "      <th>63</th>\n",
       "      <td>3</td>\n",
       "      <td>0</td>\n",
       "      <td>0</td>\n",
       "      <td>13.0</td>\n",
       "    </tr>\n",
       "    <tr>\n",
       "      <th>66</th>\n",
       "      <td>2</td>\n",
       "      <td>1</td>\n",
       "      <td>3</td>\n",
       "      <td>15.0</td>\n",
       "    </tr>\n",
       "    <tr>\n",
       "      <th>79</th>\n",
       "      <td>2</td>\n",
       "      <td>12</td>\n",
       "      <td>1</td>\n",
       "      <td>7.0</td>\n",
       "    </tr>\n",
       "    <tr>\n",
       "      <th>...</th>\n",
       "      <td>...</td>\n",
       "      <td>...</td>\n",
       "      <td>...</td>\n",
       "      <td>...</td>\n",
       "    </tr>\n",
       "    <tr>\n",
       "      <th>63759</th>\n",
       "      <td>2</td>\n",
       "      <td>5</td>\n",
       "      <td>2</td>\n",
       "      <td>0.5</td>\n",
       "    </tr>\n",
       "    <tr>\n",
       "      <th>63787</th>\n",
       "      <td>7</td>\n",
       "      <td>8</td>\n",
       "      <td>2</td>\n",
       "      <td>26.0</td>\n",
       "    </tr>\n",
       "    <tr>\n",
       "      <th>63797</th>\n",
       "      <td>6</td>\n",
       "      <td>0</td>\n",
       "      <td>0</td>\n",
       "      <td>9.0</td>\n",
       "    </tr>\n",
       "    <tr>\n",
       "      <th>63812</th>\n",
       "      <td>2</td>\n",
       "      <td>6</td>\n",
       "      <td>1</td>\n",
       "      <td>10.0</td>\n",
       "    </tr>\n",
       "    <tr>\n",
       "      <th>63827</th>\n",
       "      <td>10</td>\n",
       "      <td>5</td>\n",
       "      <td>3</td>\n",
       "      <td>0.5</td>\n",
       "    </tr>\n",
       "    <tr>\n",
       "      <th>63834</th>\n",
       "      <td>2</td>\n",
       "      <td>3</td>\n",
       "      <td>1</td>\n",
       "      <td>6.0</td>\n",
       "    </tr>\n",
       "    <tr>\n",
       "      <th>63902</th>\n",
       "      <td>2</td>\n",
       "      <td>0</td>\n",
       "      <td>1</td>\n",
       "      <td>10.0</td>\n",
       "    </tr>\n",
       "    <tr>\n",
       "      <th>63920</th>\n",
       "      <td>2</td>\n",
       "      <td>0</td>\n",
       "      <td>2</td>\n",
       "      <td>5.0</td>\n",
       "    </tr>\n",
       "    <tr>\n",
       "      <th>63926</th>\n",
       "      <td>11</td>\n",
       "      <td>0</td>\n",
       "      <td>0</td>\n",
       "      <td>5.0</td>\n",
       "    </tr>\n",
       "    <tr>\n",
       "      <th>63941</th>\n",
       "      <td>8</td>\n",
       "      <td>6</td>\n",
       "      <td>0</td>\n",
       "      <td>7.0</td>\n",
       "    </tr>\n",
       "    <tr>\n",
       "      <th>63951</th>\n",
       "      <td>3</td>\n",
       "      <td>0</td>\n",
       "      <td>3</td>\n",
       "      <td>15.0</td>\n",
       "    </tr>\n",
       "    <tr>\n",
       "      <th>63966</th>\n",
       "      <td>4</td>\n",
       "      <td>3</td>\n",
       "      <td>2</td>\n",
       "      <td>4.0</td>\n",
       "    </tr>\n",
       "    <tr>\n",
       "      <th>63980</th>\n",
       "      <td>6</td>\n",
       "      <td>3</td>\n",
       "      <td>0</td>\n",
       "      <td>7.0</td>\n",
       "    </tr>\n",
       "    <tr>\n",
       "      <th>63998</th>\n",
       "      <td>2</td>\n",
       "      <td>4</td>\n",
       "      <td>1</td>\n",
       "      <td>5.0</td>\n",
       "    </tr>\n",
       "    <tr>\n",
       "      <th>63999</th>\n",
       "      <td>6</td>\n",
       "      <td>0</td>\n",
       "      <td>1</td>\n",
       "      <td>5.0</td>\n",
       "    </tr>\n",
       "    <tr>\n",
       "      <th>64013</th>\n",
       "      <td>2</td>\n",
       "      <td>4</td>\n",
       "      <td>2</td>\n",
       "      <td>30.0</td>\n",
       "    </tr>\n",
       "    <tr>\n",
       "      <th>64014</th>\n",
       "      <td>2</td>\n",
       "      <td>0</td>\n",
       "      <td>2</td>\n",
       "      <td>12.0</td>\n",
       "    </tr>\n",
       "    <tr>\n",
       "      <th>64033</th>\n",
       "      <td>8</td>\n",
       "      <td>0</td>\n",
       "      <td>1</td>\n",
       "      <td>2.0</td>\n",
       "    </tr>\n",
       "    <tr>\n",
       "      <th>64048</th>\n",
       "      <td>1</td>\n",
       "      <td>1</td>\n",
       "      <td>1</td>\n",
       "      <td>3.0</td>\n",
       "    </tr>\n",
       "    <tr>\n",
       "      <th>64053</th>\n",
       "      <td>1</td>\n",
       "      <td>0</td>\n",
       "      <td>1</td>\n",
       "      <td>18.0</td>\n",
       "    </tr>\n",
       "    <tr>\n",
       "      <th>64058</th>\n",
       "      <td>5</td>\n",
       "      <td>13</td>\n",
       "      <td>1</td>\n",
       "      <td>7.0</td>\n",
       "    </tr>\n",
       "    <tr>\n",
       "      <th>64077</th>\n",
       "      <td>13</td>\n",
       "      <td>7</td>\n",
       "      <td>2</td>\n",
       "      <td>12.0</td>\n",
       "    </tr>\n",
       "    <tr>\n",
       "      <th>64083</th>\n",
       "      <td>2</td>\n",
       "      <td>16</td>\n",
       "      <td>2</td>\n",
       "      <td>7.0</td>\n",
       "    </tr>\n",
       "    <tr>\n",
       "      <th>64100</th>\n",
       "      <td>9</td>\n",
       "      <td>0</td>\n",
       "      <td>1</td>\n",
       "      <td>4.0</td>\n",
       "    </tr>\n",
       "    <tr>\n",
       "      <th>64101</th>\n",
       "      <td>13</td>\n",
       "      <td>13</td>\n",
       "      <td>0</td>\n",
       "      <td>10.0</td>\n",
       "    </tr>\n",
       "    <tr>\n",
       "      <th>64113</th>\n",
       "      <td>2</td>\n",
       "      <td>0</td>\n",
       "      <td>0</td>\n",
       "      <td>15.0</td>\n",
       "    </tr>\n",
       "    <tr>\n",
       "      <th>64116</th>\n",
       "      <td>2</td>\n",
       "      <td>0</td>\n",
       "      <td>1</td>\n",
       "      <td>6.0</td>\n",
       "    </tr>\n",
       "    <tr>\n",
       "      <th>64122</th>\n",
       "      <td>2</td>\n",
       "      <td>3</td>\n",
       "      <td>0</td>\n",
       "      <td>4.0</td>\n",
       "    </tr>\n",
       "    <tr>\n",
       "      <th>64127</th>\n",
       "      <td>2</td>\n",
       "      <td>4</td>\n",
       "      <td>3</td>\n",
       "      <td>12.0</td>\n",
       "    </tr>\n",
       "    <tr>\n",
       "      <th>64129</th>\n",
       "      <td>2</td>\n",
       "      <td>5</td>\n",
       "      <td>2</td>\n",
       "      <td>4.0</td>\n",
       "    </tr>\n",
       "  </tbody>\n",
       "</table>\n",
       "<p>19047 rows × 4 columns</p>\n",
       "</div>"
      ],
      "text/plain": [
       "       Country  DevType  EdLevel  YearsCodePro\n",
       "7            2        0        1          13.0\n",
       "9            3        2        2           4.0\n",
       "10           3        0        1           2.0\n",
       "11           8        6        0           7.0\n",
       "12          10        6        0          20.0\n",
       "13           2        7        0           1.0\n",
       "16           2        1        1           3.0\n",
       "18           2        1        1           3.0\n",
       "23           4        0        3          20.0\n",
       "25           5        1        1          10.0\n",
       "29           3        4        1           2.0\n",
       "31           5        0        1          10.0\n",
       "35           3        4        0           3.0\n",
       "37          12        1        1          12.0\n",
       "40           2        0        2          20.0\n",
       "41           2        0        1          10.0\n",
       "42           2        0        2          29.0\n",
       "43           6        4        2           6.0\n",
       "44           7        1        2           2.0\n",
       "45           7        0        2           4.0\n",
       "46           3        8        3          28.0\n",
       "47           2        0        1           8.0\n",
       "48           2        0        1           4.0\n",
       "50           5        0        0           7.0\n",
       "51           3        9        1           6.0\n",
       "53           2        1        1          23.0\n",
       "58           6        4        1          15.0\n",
       "63           3        0        0          13.0\n",
       "66           2        1        3          15.0\n",
       "79           2       12        1           7.0\n",
       "...        ...      ...      ...           ...\n",
       "63759        2        5        2           0.5\n",
       "63787        7        8        2          26.0\n",
       "63797        6        0        0           9.0\n",
       "63812        2        6        1          10.0\n",
       "63827       10        5        3           0.5\n",
       "63834        2        3        1           6.0\n",
       "63902        2        0        1          10.0\n",
       "63920        2        0        2           5.0\n",
       "63926       11        0        0           5.0\n",
       "63941        8        6        0           7.0\n",
       "63951        3        0        3          15.0\n",
       "63966        4        3        2           4.0\n",
       "63980        6        3        0           7.0\n",
       "63998        2        4        1           5.0\n",
       "63999        6        0        1           5.0\n",
       "64013        2        4        2          30.0\n",
       "64014        2        0        2          12.0\n",
       "64033        8        0        1           2.0\n",
       "64048        1        1        1           3.0\n",
       "64053        1        0        1          18.0\n",
       "64058        5       13        1           7.0\n",
       "64077       13        7        2          12.0\n",
       "64083        2       16        2           7.0\n",
       "64100        9        0        1           4.0\n",
       "64101       13       13        0          10.0\n",
       "64113        2        0        0          15.0\n",
       "64116        2        0        1           6.0\n",
       "64122        2        3        0           4.0\n",
       "64127        2        4        3          12.0\n",
       "64129        2        5        2           4.0\n",
       "\n",
       "[19047 rows x 4 columns]"
      ]
     },
     "execution_count": 65,
     "metadata": {},
     "output_type": "execute_result"
    }
   ],
   "source": [
    "X"
   ]
  },
  {
   "cell_type": "code",
   "execution_count": 66,
   "metadata": {},
   "outputs": [
    {
     "data": {
      "text/plain": [
       "array([['United States', 'Master’s degree', 'Developer, full-stack',\n",
       "        '15']], dtype='<U21')"
      ]
     },
     "execution_count": 66,
     "metadata": {},
     "output_type": "execute_result"
    }
   ],
   "source": [
    "# country, edlevel, yearscode\n",
    "X = np.array([[\"United States\", 'Master’s degree', 'Developer, full-stack', 15 ]])\n",
    "X"
   ]
  },
  {
   "cell_type": "code",
   "execution_count": 67,
   "metadata": {},
   "outputs": [
    {
     "name": "stdout",
     "output_type": "stream",
     "text": [
      "[[ 0.  0.  0. 15.]]\n"
     ]
    }
   ],
   "source": [
    "import pandas as pd\n",
    "\n",
    "# Assuming X is your feature matrix\n",
    "country_mapping = {country: i for i, country in enumerate(np.unique(X[:, 0]))}\n",
    "education_mapping = {education: i for i, education in enumerate(np.unique(X[:, 1]))}\n",
    "devtype_mapping = {devtype: i for i, devtype in enumerate(np.unique(X[:, 2]))}\n",
    "\n",
    "\n",
    "# Apply the mapping to the respective columns\n",
    "X[:, 0] = np.vectorize(country_mapping.get)(X[:, 0])\n",
    "X[:, 1] = np.vectorize(education_mapping.get)(X[:, 1])\n",
    "X[:, 2] = np.vectorize(devtype_mapping.get)(X[:, 2])\n",
    "\n",
    "# Convert the entire matrix to float\n",
    "X = X.astype(float)\n",
    "\n",
    "# Print the modified feature matrix\n",
    "print(X)\n"
   ]
  },
  {
   "cell_type": "code",
   "execution_count": 68,
   "metadata": {},
   "outputs": [
    {
     "data": {
      "text/plain": [
       "array([81637.05636743])"
      ]
     },
     "execution_count": 68,
     "metadata": {},
     "output_type": "execute_result"
    }
   ],
   "source": [
    "y_pred = regressor.predict(X)\n",
    "y_pred"
   ]
  },
  {
   "cell_type": "markdown",
   "metadata": {},
   "source": [
    "<a id = \"pickle\"></a>\n",
    "## **9. Pickling The Model file For Deployment**\n",
    "\n",
    "*Click [here](#toc) to go back to **Table of Contents**.*"
   ]
  },
  {
   "cell_type": "code",
   "execution_count": 69,
   "metadata": {},
   "outputs": [],
   "source": [
    "import pickle"
   ]
  },
  {
   "cell_type": "code",
   "execution_count": 70,
   "metadata": {},
   "outputs": [],
   "source": [
    "data = {\"model\": regressor, \"country_mapping\": country_mapping, \"education_mapping\": education_mapping, \"devtype_mapping\":devtype_mapping}\n",
    "with open('regmodel.pkl', 'wb') as file:\n",
    "    pickle.dump(data, file)"
   ]
  },
  {
   "cell_type": "code",
   "execution_count": 71,
   "metadata": {},
   "outputs": [],
   "source": [
    "with open('regmodel.pkl', 'rb') as file:\n",
    "    data = pickle.load(file)\n",
    "\n",
    "regressor_loaded = data[\"model\"]\n",
    "country_mapping = data[\"country_mapping\"]\n",
    "education_mapping = data[\"education_mapping\"]\n",
    "devtype_mapping  = data['devtype_mapping']"
   ]
  },
  {
   "cell_type": "code",
   "execution_count": 72,
   "metadata": {},
   "outputs": [
    {
     "data": {
      "text/plain": [
       "array([81637.05636743])"
      ]
     },
     "execution_count": 72,
     "metadata": {},
     "output_type": "execute_result"
    }
   ],
   "source": [
    "y_pred = regressor_loaded.predict(X)\n",
    "y_pred"
   ]
  },
  {
   "cell_type": "code",
   "execution_count": null,
   "metadata": {},
   "outputs": [],
   "source": []
  },
  {
   "cell_type": "code",
   "execution_count": null,
   "metadata": {},
   "outputs": [],
   "source": []
  }
 ],
 "metadata": {
  "kernelspec": {
   "display_name": "Python 3",
   "language": "python",
   "name": "python3"
  },
  "language_info": {
   "codemirror_mode": {
    "name": "ipython",
    "version": 3
   },
   "file_extension": ".py",
   "mimetype": "text/x-python",
   "name": "python",
   "nbconvert_exporter": "python",
   "pygments_lexer": "ipython3",
   "version": "3.6.5"
  }
 },
 "nbformat": 4,
 "nbformat_minor": 5
}
